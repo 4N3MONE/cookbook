{
 "cells": [
  {
   "cell_type": "markdown",
   "metadata": {},
   "source": [
    "# Serverless Inference API\n",
    "\n",
    "_Authored by: [Andrew Reed](https://huggingface.co/andrewrreed)_\n",
    "\n",
    "Hugging Face provides a [Serverless Inference API](https://huggingface.co/docs/api-inference/index) as a way for users to quickly test and evaluate over 500,000 publicly accessible (or your own privately permissioned) machine learning models ***for free*** with simple API calls!\n",
    "\n",
    "In this notebook recipe, we'll demonstrate how to get started using the Serverless Inference API for several different tasks including:\n",
    "1. Generating text with popular open LLM's\n",
    "2. Creating images with stable diffusion\n",
    "3. Transcribing audio files with Whisper\n",
    "4. Visual question answering against PDFs\n",
    "\n",
    "\n",
    "> **Note:** Because we offer the Serverless Inference API for free, the service has rate limits for regular Hugging Face users (~ few hundred requests per hour). For access to higher rate limits, you can [upgrade to a PRO account](https://huggingface.co/subscribe/pro) for just $9 per month. However, for high-volume, production inference workloads, check out our [Dedicated Inference Endpoints](https://huggingface.co/docs/inference-endpoints/index) solution.\n"
   ]
  },
  {
   "cell_type": "markdown",
   "metadata": {},
   "source": [
    "## Let's get started\n",
    "\n",
    "To begin using the Serverless Inference API, you'll need an account on the Hugging Face Hub: [Register](https://huggingface.co/join) or [Login](https://huggingface.co/login). Next, you'll need to create a [User Access Token](https://huggingface.co/docs/hub/security-tokens) with `read` or `write` permissions.\n",
    "\n",
    "With those steps out of the way, we can install our required packages and authenticate to the Hub with our User Access Token."
   ]
  },
  {
   "cell_type": "code",
   "execution_count": null,
   "metadata": {},
   "outputs": [],
   "source": [
    "%pip install -U huggingface_hub"
   ]
  },
  {
   "cell_type": "code",
   "execution_count": 4,
   "metadata": {},
   "outputs": [],
   "source": [
    "from huggingface_hub import interpreter_login, whoami\n",
    "\n",
    "# interpreter_login()"
   ]
  },
  {
   "cell_type": "markdown",
   "metadata": {},
   "source": [
    "> **Note:** We've used the `interpreter_login()` above to programatically login to the Hub. As an alternative, we could also use other methods like `notebook_login()` from the [Hub Python Library](https://huggingface.co/docs/huggingface_hub/en/package_reference/login) or `login` command from the [Hugging Face CLI tool](https://huggingface.co/docs/huggingface_hub/en/guides/cli#huggingface-cli-login)."
   ]
  },
  {
   "cell_type": "markdown",
   "metadata": {},
   "source": [
    "Now, lets verify we're properly logged in using `whoami()` to print out the active username and the organizations your profile belongs to."
   ]
  },
  {
   "cell_type": "code",
   "execution_count": null,
   "metadata": {},
   "outputs": [],
   "source": [
    "whoami()"
   ]
  },
  {
   "cell_type": "markdown",
   "metadata": {},
   "source": []
  }
 ],
 "metadata": {
  "kernelspec": {
   "display_name": ".venv",
   "language": "python",
   "name": "python3"
  },
  "language_info": {
   "codemirror_mode": {
    "name": "ipython",
    "version": 3
   },
   "file_extension": ".py",
   "mimetype": "text/x-python",
   "name": "python",
   "nbconvert_exporter": "python",
   "pygments_lexer": "ipython3",
   "version": "3.10.11"
  }
 },
 "nbformat": 4,
 "nbformat_minor": 2
}
