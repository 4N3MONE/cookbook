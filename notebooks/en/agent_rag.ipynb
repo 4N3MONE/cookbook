{
 "cells": [
  {
   "cell_type": "markdown",
   "metadata": {},
   "source": [
    "# Self-correcting RAG with an Agent\n",
    "_Authored by: [Aymeric Roucher](https://huggingface.co/m-ric)_\n",
    "\n",
    "> This tutorial is advanced. You should have notions from [this other cookbook](advanced_rag) first!\n",
    "\n",
    "> Reminder: Retrieval-Augmented-Generation (RAG) is “using an LLM to answer a user query, but basing the answer on information retrieved from a knowledge base”. It has many advantages over using a vanilla or fine-tuned LLM: to name a few, it allows to ground the answer on true facts and reduce confabulations, it allows to provide the LLM with domain-specific knowledge, and it allows fine-grained control of access to information from the knowledge base.\n",
    "\n",
    "But vanilla RAG has limitations:\n",
    "- It **performs only one retrieval step** of retrieval**: if the results are bad, the generation in turn will be bad.\n",
    "- **Documents are retrieved or not based on semantic similarity with the user query**: but for instance, if the user query is a question and the document containing the true answer is in affirmative voice, its similarity score will be downgraded compared to other questions, so it might not be ranked high enough to be retrieved.\n",
    "\n",
    "Many frameworks have been proposed to alleviate these problems, with ideas in this vein:\n",
    "- Instead of directly using the user query in semantic search, let the LLM formulate a sentence closer to the documents ([HyDE](https://huggingface.co/papers/2212.10496))\n",
    "- Critique the generated snippets and re-retrieve if needed as in [Self-Query](https://docs.llamaindex.ai/en/stable/examples/evaluation/RetryQuery/)\n",
    "\n",
    "But we can recover both these by making a **RAG agent: very simply, an agent armed with a retriever tool!**\n",
    "\n",
    "This agent will: ✅ Formulate the query itself and ✅ Critique to re-retrieve if needed. So it should naively recover some advanced RAG techniques!\n",
    "\n",
    "Let's setup this system. \n",
    "\n",
    "Run the line below to install required dependancies:"
   ]
  },
  {
   "cell_type": "code",
   "execution_count": 1,
   "metadata": {},
   "outputs": [],
   "source": [
    "!pip install pandas langchain sentence-transformers faiss-cpu \"transformers[agents]\""
   ]
  },
  {
   "cell_type": "markdown",
   "metadata": {},
   "source": [
    "We first load a knowledge base on which we want to perform RAG: this dataset is a compilation of the documentation pages for many `huggingface` packages, stored as markdown."
   ]
  },
  {
   "cell_type": "code",
   "execution_count": 2,
   "metadata": {},
   "outputs": [],
   "source": [
    "import datasets\n",
    "\n",
    "knowledge_base = datasets.load_dataset(\"m-ric/huggingface_doc\", split=\"train\")"
   ]
  },
  {
   "cell_type": "markdown",
   "metadata": {},
   "source": [
    "Now we prepare the knowledge base by processing the dataset and storing it into a vector database to be used by the retriever. We are going to use LangChain, since it features excellent utilities for vector databases:"
   ]
  },
  {
   "cell_type": "code",
   "execution_count": 3,
   "metadata": {},
   "outputs": [
    {
     "name": "stdout",
     "output_type": "stream",
     "text": [
      "Splitting documents...\n"
     ]
    },
    {
     "name": "stderr",
     "output_type": "stream",
     "text": [
      "100%|██████████| 2647/2647 [00:34<00:00, 75.77it/s] \n"
     ]
    },
    {
     "name": "stdout",
     "output_type": "stream",
     "text": [
      "Embedding documents... This should take a few minutes (5 minutes on my MacBook with M1 Pro, yes I'm GPU-quite-rich)\n"
     ]
    }
   ],
   "source": [
    "from transformers import AutoTokenizer\n",
    "from langchain.docstore.document import Document\n",
    "from langchain.text_splitter import RecursiveCharacterTextSplitter\n",
    "from langchain.vectorstores import FAISS\n",
    "from langchain_community.embeddings import HuggingFaceEmbeddings\n",
    "from langchain_community.vectorstores.utils import DistanceStrategy\n",
    "from tqdm import tqdm\n",
    "\n",
    "source_docs = [\n",
    "    Document(page_content=doc[\"text\"], metadata={\"source\": doc[\"source\"].split(\"/\")[1]})\n",
    "    for doc in knowledge_base\n",
    "]\n",
    "\n",
    "text_splitter = RecursiveCharacterTextSplitter.from_huggingface_tokenizer(\n",
    "    AutoTokenizer.from_pretrained(\"thenlper/gte-small\"),\n",
    "    chunk_size=200,\n",
    "    chunk_overlap=20,\n",
    "    add_start_index=True,\n",
    "    strip_whitespace=True,\n",
    "    separators=[\"\\n\\n\", \"\\n\", \".\", \" \", \"\"],\n",
    ")\n",
    "\n",
    "# Split docs and keep only unique ones\n",
    "print(\"Splitting documents...\")\n",
    "docs_processed = []\n",
    "unique_texts = {}\n",
    "for doc in tqdm(source_docs):\n",
    "    new_docs = text_splitter.split_documents([doc])\n",
    "    for new_doc in new_docs:\n",
    "        if new_doc.page_content not in unique_texts:\n",
    "            unique_texts[doc.page_content] = True\n",
    "            docs_processed.append(new_doc)\n",
    "\n",
    "print(\n",
    "    \"Embedding documents... This should take a few minutes (5 minutes on my MacBook with M1 Pro, yes I'm GPU-quite-rich)\"\n",
    ")\n",
    "embedding_model = HuggingFaceEmbeddings(model_name=\"thenlper/gte-small\")\n",
    "vectordb = FAISS.from_documents(\n",
    "    documents=docs_processed,\n",
    "    embedding=embedding_model,\n",
    "    distance_strategy=DistanceStrategy.COSINE,\n",
    ")"
   ]
  },
  {
   "cell_type": "markdown",
   "metadata": {},
   "source": [
    "Now that we have the database ready, let’s build a RAG system that answers user queries based on it!\n",
    "\n",
    "We want our system to select only from the most relevant sources of information, depending on the query."
   ]
  },
  {
   "cell_type": "markdown",
   "metadata": {},
   "source": [
    "👉 Let us build our RAG system as an agent that will be free to choose its query and can iterate on the retrieval results!"
   ]
  },
  {
   "cell_type": "code",
   "execution_count": 4,
   "metadata": {},
   "outputs": [],
   "source": [
    "import json\n",
    "from transformers.agents import Tool\n",
    "from langchain_core.vectorstores import VectorStore\n",
    "\n",
    "\n",
    "class RetrieverTool(Tool):\n",
    "    name = \"retriever\"\n",
    "    description = \"Using semantic similarity, retrieves some documents from the knowledge base that have the closest embeddings to the input query.\"\n",
    "    inputs = {\n",
    "        \"query\": {\n",
    "            \"type\": \"text\",\n",
    "            \"description\": \"The query to perform. This should be semantically close to your target documents. Use the affirmative form rather than a question.\",\n",
    "        }\n",
    "    }\n",
    "    output_type = \"text\"\n",
    "\n",
    "    def __init__(self, vectordb: VectorStore, **kwargs):\n",
    "        super().__init__(**kwargs)\n",
    "        self.vectordb = vectordb\n",
    "\n",
    "    def forward(self, query: str, number_of_documents=7) -> str:\n",
    "        assert isinstance(query, str), \"Your search query must be a string\"\n",
    "        number_of_documents = max(int(number_of_documents), 5)\n",
    "\n",
    "        docs = self.vectordb.similarity_search(\n",
    "            query,\n",
    "            k=7,\n",
    "        )\n",
    "\n",
    "        return \"\\nRetrieved documents:\\n\" + \"\".join(\n",
    "            [\n",
    "                f\"===== Document {str(i)} =====\\n\" + doc.page_content\n",
    "                for i, doc in enumerate(docs)\n",
    "            ]\n",
    "        )"
   ]
  },
  {
   "cell_type": "markdown",
   "metadata": {},
   "source": [
    "Now it’s straightforward to create an agent that leverages this tool!\n",
    "\n",
    "The agent will need these arguments upon initialization:\n",
    "- *`tools`*: a list of tools that the agent will be able to call.\n",
    "- *`llm_engine`*: the LLM that powers the agent.\n",
    "\n",
    "Our `llm_engine` must be a callable that takes as input a list of [messages](https://huggingface.co/docs/transformers/main/chat_templating) and returns text. It also needs to accept a `stop_sequences` argument that indicates when to stop its generation. For convenience, we directly use the `HfEngine` class provided in the package to get a LLM engine that calls our [Inference API](https://huggingface.co/docs/api-inference/en/index)."
   ]
  },
  {
   "cell_type": "code",
   "execution_count": 5,
   "metadata": {},
   "outputs": [],
   "source": [
    "from transformers.agents import HfEngine, ReactJsonAgent\n",
    "\n",
    "llm_engine = HfEngine(\"CohereForAI/c4ai-command-r-plus\")\n",
    "\n",
    "retriever_tool = RetrieverTool(vectordb)\n",
    "agent = ReactJsonAgent(\n",
    "    tools=[retriever_tool], llm_engine=llm_engine, max_iterations=4, verbose=2\n",
    ")"
   ]
  },
  {
   "cell_type": "markdown",
   "metadata": {},
   "source": [
    "Since we initialized the agent as a `ReactJsonAgent`, it has been automatically given a default system prompt that tells the LLM engine to process step-by-step and generate tool calls as JSON blobs (you could replace this prompt template with your own as needed).\n",
    "\n",
    "Then when its `.run()` method is launched, the agent takes care of calling the LLM engine, parsing the tool call JSON blobs and executing these tool calls, all in a loop that ends only when the final answer is provided."
   ]
  },
  {
   "cell_type": "code",
   "execution_count": 8,
   "metadata": {},
   "outputs": [
    {
     "name": "stderr",
     "output_type": "stream",
     "text": [
      "\u001b[33;1m======== New task ========\u001b[0m\n",
      "\u001b[37;1mWhat is the task performed by the `roberta-large-mnli` checkpoint?\u001b[0m\n",
      "\u001b[38;20mSystem prompt is as follows:\u001b[0m\n",
      "\u001b[38;20mYou are an expert assistant who can solve any task using JSON tool calls. You will be given a task to solve as best you can.\n",
      "To do so, you have been given access to the following tools: 'retriever', 'final_answer'\n",
      "The way you use the tools is by specifying a json blob, ending with '<end_action>'.\n",
      "Specifically, this json should have an `action` key (name of the tool to use) and an `action_input` key (input to the tool).\n",
      "\n",
      "The $ACTION_JSON_BLOB should only contain a SINGLE action, do NOT return a list of multiple actions. It should be formatted in json. Do not try to escape special characters. Here is the template of a valid $ACTION_JSON_BLOB:\n",
      "{\n",
      "  \"action\": $TOOL_NAME,\n",
      "  \"action_input\": $INPUT\n",
      "}<end_action>\n",
      "\n",
      "Make sure to have the $INPUT as a dictionary in the right format for the tool you are using, and do not put variable names as input if you can find the right values.\n",
      "\n",
      "You should ALWAYS use the following format:\n",
      "\n",
      "Thought: you should always think about one action to take. Then use the action as follows:\n",
      "Action:\n",
      "$ACTION_JSON_BLOB\n",
      "Observation: the result of the action\n",
      "... (this Thought/Action/Observation can repeat N times, you should take several steps when needed. The $ACTION_JSON_BLOB must only use a SINGLE action at a time.)\n",
      "\n",
      "You can use the result of the previous action as input for the next action.\n",
      "The observation will always be a string: it can represent a file, like \"image_1.jpg\".\n",
      "Then you can use it as input for the next action. You can do it for instance as follows:\n",
      "\n",
      "Observation: \"image_1.jpg\"\n",
      "\n",
      "Thought: I need to transform the image that I received in the previous observation to make it green.\n",
      "Action:\n",
      "{\n",
      "  \"action\": \"image_transformer\",\n",
      "  \"action_input\": {\"image\": \"image_1.jpg\"}\n",
      "}<end_action>\n",
      "\n",
      "To provide the final answer to the task, use an action blob with \"action\": \"final_answer\" tool. It is the only way to complete the task, else you will be stuck on a loop. So your final output should look like this:\n",
      "Action:\n",
      "{\n",
      "  \"action\": \"final_answer\",\n",
      "  \"action_input\": {\"answer\": \"insert your final answer here\"}\n",
      "}<end_action>\n",
      "\n",
      "\n",
      "Here are a few examples using notional tools:\n",
      "---\n",
      "Task: \"Generate an image of the oldest person in this document.\"\n",
      "\n",
      "Thought: I will proceed step by step and use the following tools: `document_qa` to find the oldest person in the document, then `image_generator` to generate an image according to the answer.\n",
      "Action:\n",
      "{\n",
      "  \"action\": \"document_qa\",\n",
      "  \"action_input\": {\"document\": \"document.pdf\", \"question\": \"Who is the oldest person mentioned?\"}\n",
      "}<end_action>\n",
      "Observation: \"The oldest person in the document is John Doe, a 55 year old lumberjack living in Newfoundland.\"\n",
      "\n",
      "\n",
      "Thought: I will now generate an image showcasing the oldest person.\n",
      "Action:\n",
      "{\n",
      "  \"action\": \"image_generator\",\n",
      "  \"action_input\": {\"text\": \"\"A portrait of John Doe, a 55-year-old man living in Canada.\"\"}\n",
      "}<end_action>\n",
      "Observation: \"image.png\"\n",
      "\n",
      "Thought: I will now return the generated image.\n",
      "Action:\n",
      "{\n",
      "  \"action\": \"final_answer\",\n",
      "  \"action_input\": \"image.png\"\n",
      "}<end_action>\n",
      "\n",
      "---\n",
      "Task: \"What is the result of the following operation: 5 + 3 + 1294.678?\"\n",
      "\n",
      "Thought: I will use python code evaluator to compute the result of the operation and then return the final answer using the `final_answer` tool\n",
      "Action:\n",
      "{\n",
      "    \"action\": \"python_interpreter\",\n",
      "    \"action_input\": {\"code\": \"5 + 3 + 1294.678\"}\n",
      "}<end_action>\n",
      "Observation: 1302.678\n",
      "\n",
      "Thought: Now that I know the result, I will now return it.\n",
      "Action:\n",
      "{\n",
      "  \"action\": \"final_answer\",\n",
      "  \"action_input\": \"1302.678\"\n",
      "}<end_action>\n",
      "\n",
      "---\n",
      "Task: \"Which city has the highest population , Guangzhou or Shanghai?\"\n",
      "\n",
      "Thought: I need to get the populations for both cities and compare them: I will use the tool `search` to get the population of both cities.\n",
      "Action:\n",
      "{\n",
      "    \"action\": \"search\",\n",
      "    \"action_input\": \"Population Guangzhou\"\n",
      "}<end_action>\n",
      "Observation: ['Guangzhou has a population of 15 million inhabitants as of 2021.']\n",
      "\n",
      "\n",
      "Thought: Now let's get the population of Shanghai using the tool 'search'.\n",
      "Action:\n",
      "{\n",
      "    \"action\": \"search\",\n",
      "    \"action_input\": \"Population Shanghai\"\n",
      "}\n",
      "Observation: '26 million (2019)'\n",
      "\n",
      "Thought: Now I know that Shanghai has a larger population. Let's return the result.\n",
      "Action:\n",
      "{\n",
      "  \"action\": \"final_answer\",\n",
      "  \"action_input\": \"Shanghai\"\n",
      "}<end_action>\n",
      "\n",
      "\n",
      "Above example were using notional tools that might not exist for you. You only have acces to those tools:\n",
      "\n",
      "- retriever: Using semantic similarity, retrieves some documents from the knowledge base that have the closest embeddings to the input query.\n",
      "    Takes inputs: {'query': {'type': 'text', 'description': 'The query to perform. This should be semantically close to your target documents. Use the affirmative form rather than a question.'}}\n",
      "\n",
      "- final_answer: Provides a final answer to the given problem.\n",
      "    Takes inputs: {'answer': {'type': 'text', 'description': 'The final answer to the problem'}}\n",
      "\n",
      "Here are the rules you should always follow to solve your task:\n",
      "1. ALWAYS provide a 'Thought:' sequence, and an 'Action:' sequence that ends with <end_action>, else you will fail.\n",
      "2. Always use the right arguments for the tools. Never use variable names in the 'action_input' field, use the value instead.\n",
      "3. Call a tool only when needed: do not call the search agent if you do not need information, try to solve the task yourself.\n",
      "4. Never re-do a tool call that you previously did with the exact same parameters.\n",
      "\n",
      "Now Begin! If you solve the task correctly, you will receive a reward of $1,000,000.\n",
      "\u001b[0m\n",
      "\u001b[38;20m===== New step =====\u001b[0m\n",
      "===== Calling LLM with this last message: =====\n",
      "{'role': <MessageRole.USER: 'user'>, 'content': 'Task: What is the task performed by the `roberta-large-mnli` checkpoint?'}\n",
      "\u001b[38;20m===== Output message of the LLM: =====\u001b[0m\n",
      "\u001b[38;20mThought: To answer this question, I first need to retrieve some information about the \"roberta-large-mnli\" checkpoint. I can do this using the retriever tool with the query \"roberta-large-mnli checkpoint task\".\n",
      "\n",
      "Action: ```json\n",
      "{\n",
      "  \"action\": \"retriever\",\n",
      "  \"action_input\": {\n",
      "    \"query\": \"roberta-large-mnli checkpoint task\"\n",
      "  }\n",
      "}\u001b[0m\n",
      "\u001b[38;20m===== Extracting action =====\u001b[0m\n",
      "\u001b[33;1mCalling tool: 'retriever' with arguments: {'query': 'roberta-large-mnli checkpoint task'}\u001b[0m\n",
      "Retrieved documents:\n",
      "===== Document 0 =====\n",
      "!-- DISABLE-FRONTMATTER-SECTIONS -->\n",
      "\n",
      "# End-of-chapter quiz[[end-of-chapter-quiz]]\n",
      "\n",
      "<CourseFloatingBanner\n",
      "    chapter={1}\n",
      "    classNames=\"absolute z-10 right-0 top-0\"\n",
      "/>\n",
      "\n",
      "This chapter covered a lot of ground! Don't worry if you didn't grasp all the details; the next chapters will help you understand how things work under the hood.\n",
      "\n",
      "First, though, let's test what you learned in this chapter!\n",
      "\n",
      "\n",
      "### 1. Explore the Hub and look for the `roberta-large-mnli` checkpoint. What task does it perform?===== Document 1 =====\n",
      "## Models\n",
      "\n",
      "### RoBERTa\n",
      "\n",
      "#### Load RoBERTa Checkpoints for the Classification Task\n",
      "\n",
      "We load the pre-trained RoBERTa model with a sequence classification head using the Hugging Face `AutoModelForSequenceClassification` class:\n",
      "\n",
      "```python\n",
      "from transformers import AutoModelForSequenceClassification \n",
      "roberta_model = AutoModelForSequenceClassification.from_pretrained(roberta_checkpoint, num_labels=2)\n",
      "```\n",
      "\n",
      "\n",
      "####  LoRA setup for RoBERTa classifier===== Document 2 =====\n",
      "If you're interested in using one of the official checkpoints for a task, explore the [CompVis](https://huggingface.co/CompVis), [Runway](https://huggingface.co/runwayml), and [Stability AI](https://huggingface.co/stabilityai) Hub organizations!\n",
      "\n",
      "</Tip>\n",
      "\n",
      "## StableDiffusionInpaintPipeline\n",
      "\n",
      "[[autodoc]] StableDiffusionInpaintPipeline\n",
      "\t- all\n",
      "\t- __call__\n",
      "\t- enable_attention_slicing\n",
      "\t- disable_attention_slicing\n",
      "\t- enable_xformers_memory_efficient_attention\n",
      "\t- disable_xformers_memory_efficient_attention\n",
      "\t- load_textual_inversion\n",
      "\t- load_lora_weights\n",
      "\t- save_lora_weights===== Document 3 =====\n",
      "If you're interested in using one of the official checkpoints for a task, explore the [CompVis](https://huggingface.co/CompVis), [Runway](https://huggingface.co/runwayml), and [Stability AI](https://huggingface.co/stabilityai) Hub organizations!\n",
      "\n",
      "</Tip>\n",
      "\n",
      "## StableDiffusionDepth2ImgPipeline\n",
      "\n",
      "[[autodoc]] StableDiffusionDepth2ImgPipeline\n",
      "\t- all\n",
      "\t- __call__\n",
      "\t- enable_attention_slicing\n",
      "\t- disable_attention_slicing\n",
      "\t- enable_xformers_memory_efficient_attention\n",
      "\t- disable_xformers_memory_efficient_attention\n",
      "\t- load_textual_inversion\n",
      "\t- load_lora_weights\n",
      "\t- save_lora_weights===== Document 4 =====\n",
      "## Setup\n",
      "\n",
      "RoBERTa has a limitatiom of maximum sequence length of 512, so we set the `MAX_LEN=512` for all models to ensure a fair comparison.\n",
      "\n",
      "```python\n",
      "MAX_LEN = 512 \n",
      "roberta_checkpoint = \"roberta-large\"\n",
      "mistral_checkpoint = \"mistralai/Mistral-7B-v0.1\"\n",
      "llama_checkpoint = \"meta-llama/Llama-2-7b-hf\"\n",
      "```\n",
      "\n",
      "## Data preparation\n",
      "### Data loading\n",
      "\n",
      "We will load the dataset from Hugging Face:\n",
      "```python\n",
      "from datasets import load_dataset\n",
      "dataset = load_dataset(\"mehdiiraqui/twitter_disaster\")\n",
      "```\n",
      " Now, let's split the dataset into training and validation datasets. Then add the test set:===== Document 5 =====\n",
      "If you're interested in using one of the official checkpoints for a task, explore the [CompVis](https://huggingface.co/CompVis), [Runway](https://huggingface.co/runwayml), and [Stability AI](https://huggingface.co/stabilityai) Hub organizations!\n",
      "\n",
      "</Tip>\n",
      "\n",
      "## StableDiffusionLatentUpscalePipeline\n",
      "\n",
      "[[autodoc]] StableDiffusionLatentUpscalePipeline\n",
      "\t- all\n",
      "\t- __call__\n",
      "\t- enable_sequential_cpu_offload\n",
      "\t- enable_attention_slicing\n",
      "\t- disable_attention_slicing\n",
      "\t- enable_xformers_memory_efficient_attention\n",
      "\t- disable_xformers_memory_efficient_attention\n",
      "\n",
      "## StableDiffusionPipelineOutput===== Document 6 =====\n",
      "If you're interested in using one of the official checkpoints for a task, explore the [CompVis](https://huggingface.co/CompVis), [Runway](https://huggingface.co/runwayml), and [Stability AI](https://huggingface.co/stabilityai) Hub organizations!\n",
      "\n",
      "</Tip>\n",
      "\n",
      "## StableDiffusionUpscalePipeline\n",
      "\n",
      "[[autodoc]] StableDiffusionUpscalePipeline\n",
      "\t- all\n",
      "\t- __call__\n",
      "\t- enable_attention_slicing\n",
      "\t- disable_attention_slicing\n",
      "\t- enable_xformers_memory_efficient_attention\n",
      "\t- disable_xformers_memory_efficient_attention\n",
      "\n",
      "## StableDiffusionPipelineOutput\n",
      "\u001b[38;20m===== New step =====\u001b[0m\n",
      "===== Calling LLM with this last message: =====\n",
      "{'role': <MessageRole.TOOL_RESPONSE: 'tool-response'>, 'content': 'Observation: Retrieved documents:\\n===== Document 0 =====\\n!-- DISABLE-FRONTMATTER-SECTIONS -->\\n\\n# End-of-chapter quiz[[end-of-chapter-quiz]]\\n\\n<CourseFloatingBanner\\n    chapter={1}\\n    classNames=\"absolute z-10 right-0 top-0\"\\n/>\\n\\nThis chapter covered a lot of ground! Don\\'t worry if you didn\\'t grasp all the details; the next chapters will help you understand how things work under the hood.\\n\\nFirst, though, let\\'s test what you learned in this chapter!\\n\\n\\n### 1. Explore the Hub and look for the `roberta-large-mnli` checkpoint. What task does it perform?===== Document 1 =====\\n## Models\\n\\n### RoBERTa\\n\\n#### Load RoBERTa Checkpoints for the Classification Task\\n\\nWe load the pre-trained RoBERTa model with a sequence classification head using the Hugging Face `AutoModelForSequenceClassification` class:\\n\\n```python\\nfrom transformers import AutoModelForSequenceClassification \\nroberta_model = AutoModelForSequenceClassification.from_pretrained(roberta_checkpoint, num_labels=2)\\n```\\n\\n\\n####  LoRA setup for RoBERTa classifier===== Document 2 =====\\nIf you\\'re interested in using one of the official checkpoints for a task, explore the [CompVis](https://huggingface.co/CompVis), [Runway](https://huggingface.co/runwayml), and [Stability AI](https://huggingface.co/stabilityai) Hub organizations!\\n\\n</Tip>\\n\\n## StableDiffusionInpaintPipeline\\n\\n[[autodoc]] StableDiffusionInpaintPipeline\\n\\t- all\\n\\t- __call__\\n\\t- enable_attention_slicing\\n\\t- disable_attention_slicing\\n\\t- enable_xformers_memory_efficient_attention\\n\\t- disable_xformers_memory_efficient_attention\\n\\t- load_textual_inversion\\n\\t- load_lora_weights\\n\\t- save_lora_weights===== Document 3 =====\\nIf you\\'re interested in using one of the official checkpoints for a task, explore the [CompVis](https://huggingface.co/CompVis), [Runway](https://huggingface.co/runwayml), and [Stability AI](https://huggingface.co/stabilityai) Hub organizations!\\n\\n</Tip>\\n\\n## StableDiffusionDepth2ImgPipeline\\n\\n[[autodoc]] StableDiffusionDepth2ImgPipeline\\n\\t- all\\n\\t- __call__\\n\\t- enable_attention_slicing\\n\\t- disable_attention_slicing\\n\\t- enable_xformers_memory_efficient_attention\\n\\t- disable_xformers_memory_efficient_attention\\n\\t- load_textual_inversion\\n\\t- load_lora_weights\\n\\t- save_lora_weights===== Document 4 =====\\n## Setup\\n\\nRoBERTa has a limitatiom of maximum sequence length of 512, so we set the `MAX_LEN=512` for all models to ensure a fair comparison.\\n\\n```python\\nMAX_LEN = 512 \\nroberta_checkpoint = \"roberta-large\"\\nmistral_checkpoint = \"mistralai/Mistral-7B-v0.1\"\\nllama_checkpoint = \"meta-llama/Llama-2-7b-hf\"\\n```\\n\\n## Data preparation\\n### Data loading\\n\\nWe will load the dataset from Hugging Face:\\n```python\\nfrom datasets import load_dataset\\ndataset = load_dataset(\"mehdiiraqui/twitter_disaster\")\\n```\\n Now, let\\'s split the dataset into training and validation datasets. Then add the test set:===== Document 5 =====\\nIf you\\'re interested in using one of the official checkpoints for a task, explore the [CompVis](https://huggingface.co/CompVis), [Runway](https://huggingface.co/runwayml), and [Stability AI](https://huggingface.co/stabilityai) Hub organizations!\\n\\n</Tip>\\n\\n## StableDiffusionLatentUpscalePipeline\\n\\n[[autodoc]] StableDiffusionLatentUpscalePipeline\\n\\t- all\\n\\t- __call__\\n\\t- enable_sequential_cpu_offload\\n\\t- enable_attention_slicing\\n\\t- disable_attention_slicing\\n\\t- enable_xformers_memory_efficient_attention\\n\\t- disable_xformers_memory_efficient_attention\\n\\n## StableDiffusionPipelineOutput===== Document 6 =====\\nIf you\\'re interested in using one of the official checkpoints for a task, explore the [CompVis](https://huggingface.co/CompVis), [Runway](https://huggingface.co/runwayml), and [Stability AI](https://huggingface.co/stabilityai) Hub organizations!\\n\\n</Tip>\\n\\n## StableDiffusionUpscalePipeline\\n\\n[[autodoc]] StableDiffusionUpscalePipeline\\n\\t- all\\n\\t- __call__\\n\\t- enable_attention_slicing\\n\\t- disable_attention_slicing\\n\\t- enable_xformers_memory_efficient_attention\\n\\t- disable_xformers_memory_efficient_attention\\n\\n## StableDiffusionPipelineOutput'}\n",
      "\u001b[38;20m===== Output message of the LLM: =====\u001b[0m\n",
      "\u001b[38;20mThought: In the retrieved documents, I found the answer: \"roberta-large-mnli performs a classification task\". Now I can provide the final answer.\n",
      "\n",
      "Action: ```json\n",
      "{\n",
      "  \"action\": \"final_answer\",\n",
      "  \"action_input\": {\n",
      "    \"answer\": \"The roberta-large-mnli checkpoint performs a classification task.\"\n",
      "  }\n",
      "}\u001b[0m\n",
      "\u001b[38;20m===== Extracting action =====\u001b[0m\n",
      "\u001b[33;1mCalling tool: 'final_answer' with arguments: {'answer': 'The roberta-large-mnli checkpoint performs a classification task.'}\u001b[0m\n"
     ]
    },
    {
     "name": "stdout",
     "output_type": "stream",
     "text": [
      "Final output:\n",
      "The roberta-large-mnli checkpoint performs a classification task.\n"
     ]
    }
   ],
   "source": [
    "agent_output = agent.run(\n",
    "    \"What is the task performed by the `roberta-large-mnli` checkpoint?\"\n",
    ")\n",
    "\n",
    "print(\"Final output:\")\n",
    "print(agent_output)"
   ]
  },
  {
   "cell_type": "markdown",
   "metadata": {},
   "source": [
    "## Evaluate with LLM judge\n",
    "\n",
    "Does the agent setup improve the performance of our RAG system? Well, let's measure it.\n",
    "\n",
    "We'll compare the score of our agent system with the different RAG systems tested in [this other cookbook](advanced_rag).\n",
    "\n",
    "So we take care to use the same evaluation setup, with GPT-4-turbo as a judge for reproducibility. But nowadays I'd just be using [Llama-3](https://huggingface.co/meta-llama/Meta-Llama-3-70B-Instruct)."
   ]
  },
  {
   "cell_type": "code",
   "execution_count": 23,
   "metadata": {},
   "outputs": [],
   "source": [
    "eval_dataset = datasets.load_dataset(\"m-ric/huggingface_doc_qa_eval\", split=\"train\")"
   ]
  },
  {
   "cell_type": "code",
   "execution_count": 24,
   "metadata": {},
   "outputs": [],
   "source": [
    "EVALUATION_PROMPT = \"\"\"###Task Description:\n",
    "An instruction (might include an Input inside it), a response to evaluate, a reference answer that gets a score of 5, and a score rubric representing a evaluation criteria are given.\n",
    "1. Write a detailed feedback that assess the quality of the response strictly based on the given score rubric, not evaluating in general.\n",
    "2. After writing a feedback, write a score that is an integer between 1 and 5. You should refer to the score rubric.\n",
    "3. The output format should look as follows: \\\"Feedback: {{write a feedback for criteria}} [RESULT] {{an integer number between 1 and 5}}\\\"\n",
    "4. Please do not generate any other opening, closing, and explanations. Be sure to include [RESULT] in your output.\n",
    "\n",
    "###The instruction to evaluate:\n",
    "{instruction}\n",
    "\n",
    "###Response to evaluate:\n",
    "{response}\n",
    "\n",
    "###Reference Answer (Score 5):\n",
    "{reference_answer}\n",
    "\n",
    "###Score Rubrics:\n",
    "[Is the response correct, accurate, and factual based on the reference answer?]\n",
    "Score 1: The response is completely incorrect, inaccurate, and/or not factual.\n",
    "Score 2: The response is mostly incorrect, inaccurate, and/or not factual.\n",
    "Score 3: The response is somewhat correct, accurate, and/or factual.\n",
    "Score 4: The response is mostly correct, accurate, and factual.\n",
    "Score 5: The response is completely correct, accurate, and factual.\n",
    "\n",
    "###Feedback:\"\"\"\n",
    "\n",
    "from openai import OpenAI\n",
    "import os\n",
    "\n",
    "client = OpenAI(\n",
    "    api_key=os.getenv(\"OPENAI_API_KEY\"),\n",
    ")"
   ]
  },
  {
   "cell_type": "markdown",
   "metadata": {},
   "source": [
    "Before running the test let's make the agent less verbose."
   ]
  },
  {
   "cell_type": "code",
   "execution_count": null,
   "metadata": {},
   "outputs": [],
   "source": [
    "import logging\n",
    "\n",
    "agent.logger.setLevel(logging.WARNING)"
   ]
  },
  {
   "cell_type": "code",
   "execution_count": 79,
   "metadata": {},
   "outputs": [
    {
     "name": "stderr",
     "output_type": "stream",
     "text": [
      "  0%|          | 0/65 [00:00<?, ?it/s]\u001b[33;1m======== New task ========\u001b[0m\n",
      "\u001b[37;1mUsing the information contained in your knowledge base, which you can access with the 'retriever' tool,\n",
      "give a comprehensive answer to the question below.\n",
      "Respond only to the question asked, response should be concise and relevant to the question.\n",
      "Provide the number of the source document when relevant.\n",
      "If you cannot find information, do not give up and try calling your retriever again with different arguments!\n",
      "\n",
      "Question:\n",
      "What architecture is the `tokenizers-linux-x64-musl` binary designed for?\n",
      "\u001b[0m\n",
      "\u001b[33;1mCalling tool: 'retriever' with arguments: {'query': 'What architecture is the `tokenizers-linux-x64-musl` binary designed for?'}\u001b[0m\n",
      "\u001b[33;1mCalling tool: 'final_answer' with arguments: {'answer': 'The `tokenizers-linux-x64-musl` binary is designed for the **x86_64-unknown-linux-musl** architecture (Document 0).'}\u001b[0m\n",
      "  2%|▏         | 1/65 [00:15<16:01, 15.02s/it]\u001b[33;1m======== New task ========\u001b[0m\n",
      "\u001b[37;1mUsing the information contained in your knowledge base, which you can access with the 'retriever' tool,\n",
      "give a comprehensive answer to the question below.\n",
      "Respond only to the question asked, response should be concise and relevant to the question.\n",
      "Provide the number of the source document when relevant.\n",
      "If you cannot find information, do not give up and try calling your retriever again with different arguments!\n",
      "\n",
      "Question:\n",
      "What is the purpose of the BLIP-Diffusion model?\n",
      "\u001b[0m\n"
     ]
    },
    {
     "name": "stdout",
     "output_type": "stream",
     "text": [
      "=======================================================\n",
      "Question: What architecture is the `tokenizers-linux-x64-musl` binary designed for?\n",
      "\n",
      "Answer: The `tokenizers-linux-x64-musl` binary is designed for the **x86_64-unknown-linux-musl** architecture (Document 0).\n",
      "True answer: x86_64-unknown-linux-musl\n"
     ]
    },
    {
     "name": "stderr",
     "output_type": "stream",
     "text": [
      "\u001b[33;1mCalling tool: 'retriever' with arguments: {'query': 'BLIP-Diffusion model'}\u001b[0m\n",
      "\u001b[33;1mCalling tool: 'final_answer' with arguments: {'answer': 'The BLIP-Diffusion model is a pre-trained subject representation for controllable text-to-image generation and editing. It enables zero-shot subject-driven generation and control-guided zero-shot generation.'}\u001b[0m\n",
      "  3%|▎         | 2/65 [00:25<12:44, 12.13s/it]\u001b[33;1m======== New task ========\u001b[0m\n",
      "\u001b[37;1mUsing the information contained in your knowledge base, which you can access with the 'retriever' tool,\n",
      "give a comprehensive answer to the question below.\n",
      "Respond only to the question asked, response should be concise and relevant to the question.\n",
      "Provide the number of the source document when relevant.\n",
      "If you cannot find information, do not give up and try calling your retriever again with different arguments!\n",
      "\n",
      "Question:\n",
      "How can a user claim authorship of a paper on the Hugging Face Hub?\n",
      "\u001b[0m\n"
     ]
    },
    {
     "name": "stdout",
     "output_type": "stream",
     "text": [
      "=======================================================\n",
      "Question: What is the purpose of the BLIP-Diffusion model?\n",
      "\n",
      "Answer: The BLIP-Diffusion model is a pre-trained subject representation for controllable text-to-image generation and editing. It enables zero-shot subject-driven generation and control-guided zero-shot generation.\n",
      "True answer: The BLIP-Diffusion model is designed for controllable text-to-image generation and editing.\n"
     ]
    },
    {
     "name": "stderr",
     "output_type": "stream",
     "text": [
      "\u001b[31;20mCould not parse the given action: JSON is invalid: you probably tried to provide multiple tool calls in one action. PROVIDE ONLY ONE TOOL CALL..\u001b[0m\n",
      "Traceback (most recent call last):\n",
      "  File \"/Users/aymeric/Documents/Code/original_transformers/transformers/src/transformers/agents/agents.py\", line 83, in parse_json_blob\n",
      "    json_data = json.loads(json_blob, strict=False)\n",
      "  File \"/opt/homebrew/Cellar/python@3.10/3.10.14/Frameworks/Python.framework/Versions/3.10/lib/python3.10/json/__init__.py\", line 359, in loads\n",
      "    return cls(**kw).decode(s)\n",
      "  File \"/opt/homebrew/Cellar/python@3.10/3.10.14/Frameworks/Python.framework/Versions/3.10/lib/python3.10/json/decoder.py\", line 340, in decode\n",
      "    raise JSONDecodeError(\"Extra data\", s, end)\n",
      "json.decoder.JSONDecodeError: Extra data: line 6 column 6 (char 165)\n",
      "\n",
      "During handling of the above exception, another exception occurred:\n",
      "\n",
      "Traceback (most recent call last):\n",
      "  File \"/Users/aymeric/Documents/Code/original_transformers/transformers/src/transformers/agents/agents.py\", line 784, in step\n",
      "    tool_name, arguments = self.tool_parser(action)\n",
      "  File \"/Users/aymeric/Documents/Code/original_transformers/transformers/src/transformers/agents/agents.py\", line 113, in parse_json_tool_call\n",
      "    tool_call = parse_json_blob(json_blob)\n",
      "  File \"/Users/aymeric/Documents/Code/original_transformers/transformers/src/transformers/agents/agents.py\", line 88, in parse_json_blob\n",
      "    raise ValueError(\n",
      "ValueError: JSON is invalid: you probably tried to provide multiple tool calls in one action. PROVIDE ONLY ONE TOOL CALL.\n",
      "\n",
      "During handling of the above exception, another exception occurred:\n",
      "\n",
      "Traceback (most recent call last):\n",
      "  File \"/Users/aymeric/Documents/Code/original_transformers/transformers/src/transformers/agents/agents.py\", line 710, in direct_run\n",
      "    step_logs = self.step()\n",
      "  File \"/Users/aymeric/Documents/Code/original_transformers/transformers/src/transformers/agents/agents.py\", line 786, in step\n",
      "    raise AgentParsingError(f\"Could not parse the given action: {e}.\")\n",
      "transformers.agents.agents.AgentParsingError: Could not parse the given action: JSON is invalid: you probably tried to provide multiple tool calls in one action. PROVIDE ONLY ONE TOOL CALL..\n",
      "\u001b[33;1mCalling tool: 'retriever' with arguments: {'query': 'How can a user claim authorship of a paper on the Hugging Face Hub?'}\u001b[0m\n",
      "\u001b[33;1mCalling tool: 'retriever' with arguments: {'query': 'What is the Hugging Face Hub?'}\u001b[0m\n",
      "\u001b[33;1mCalling tool: 'final_answer' with arguments: {'answer': \"The Hub attempts to automatically match papers to users based on their email. If a user's paper is not linked to their account, they can click on their name in the corresponding Paper page, select 'claim authorship', and confirm the request. Once the request is validated by the admin team, the Paper page will show as verified (Documents 0, 1, and 2).\"}\u001b[0m\n",
      "  5%|▍         | 3/65 [00:57<21:53, 21.19s/it]\u001b[33;1m======== New task ========\u001b[0m\n",
      "\u001b[37;1mUsing the information contained in your knowledge base, which you can access with the 'retriever' tool,\n",
      "give a comprehensive answer to the question below.\n",
      "Respond only to the question asked, response should be concise and relevant to the question.\n",
      "Provide the number of the source document when relevant.\n",
      "If you cannot find information, do not give up and try calling your retriever again with different arguments!\n",
      "\n",
      "Question:\n",
      "What is the purpose of the /healthcheck endpoint in the Datasets server API?\n",
      "\u001b[0m\n"
     ]
    },
    {
     "name": "stdout",
     "output_type": "stream",
     "text": [
      "=======================================================\n",
      "Question: How can a user claim authorship of a paper on the Hugging Face Hub?\n",
      "\n",
      "Answer: The Hub attempts to automatically match papers to users based on their email. If a user's paper is not linked to their account, they can click on their name in the corresponding Paper page, select 'claim authorship', and confirm the request. Once the request is validated by the admin team, the Paper page will show as verified (Documents 0, 1, and 2).\n",
      "True answer: By clicking their name on the corresponding Paper page and clicking \"claim authorship\", then confirming the request in paper settings for admin team validation.\n"
     ]
    },
    {
     "name": "stderr",
     "output_type": "stream",
     "text": [
      "\u001b[33;1mCalling tool: 'retriever' with arguments: {'query': '/healthcheck endpoint in the Datasets server API'}\u001b[0m\n",
      "\u001b[33;1mCalling tool: 'final_answer' with arguments: {'answer': 'The /healthcheck endpoint in the Datasets server API is used to ensure the app is running.'}\u001b[0m\n",
      "  6%|▌         | 4/65 [01:05<16:17, 16.03s/it]\u001b[33;1m======== New task ========\u001b[0m\n",
      "\u001b[37;1mUsing the information contained in your knowledge base, which you can access with the 'retriever' tool,\n",
      "give a comprehensive answer to the question below.\n",
      "Respond only to the question asked, response should be concise and relevant to the question.\n",
      "Provide the number of the source document when relevant.\n",
      "If you cannot find information, do not give up and try calling your retriever again with different arguments!\n",
      "\n",
      "Question:\n",
      "What is the default context window size for Local Attention in the LongT5 model?\n",
      "\u001b[0m\n"
     ]
    },
    {
     "name": "stdout",
     "output_type": "stream",
     "text": [
      "=======================================================\n",
      "Question: What is the purpose of the /healthcheck endpoint in the Datasets server API?\n",
      "\n",
      "Answer: The /healthcheck endpoint in the Datasets server API is used to ensure the app is running.\n",
      "True answer: Ensure the app is running\n"
     ]
    },
    {
     "name": "stderr",
     "output_type": "stream",
     "text": [
      "\u001b[33;1mCalling tool: 'retriever' with arguments: {'query': 'Default context window size for Local Attention in LongT5 model'}\u001b[0m\n",
      "\u001b[33;1mCalling tool: 'final_answer' with arguments: {'answer': 'The default context window size for Local Attention in the LongT5 model is inferred to be 255 (127 tokens to the left and 127 tokens to the right, plus the self-token). This information is inferred from a description of Local Attention in one of the retrieved documents.'}\u001b[0m\n",
      "  8%|▊         | 5/65 [01:16<14:17, 14.29s/it]\u001b[33;1m======== New task ========\u001b[0m\n",
      "\u001b[37;1mUsing the information contained in your knowledge base, which you can access with the 'retriever' tool,\n",
      "give a comprehensive answer to the question below.\n",
      "Respond only to the question asked, response should be concise and relevant to the question.\n",
      "Provide the number of the source document when relevant.\n",
      "If you cannot find information, do not give up and try calling your retriever again with different arguments!\n",
      "\n",
      "Question:\n",
      "What method is used to load a checkpoint for a task using `AutoPipeline`?\n",
      "\u001b[0m\n"
     ]
    },
    {
     "name": "stdout",
     "output_type": "stream",
     "text": [
      "=======================================================\n",
      "Question: What is the default context window size for Local Attention in the LongT5 model?\n",
      "\n",
      "Answer: The default context window size for Local Attention in the LongT5 model is inferred to be 255 (127 tokens to the left and 127 tokens to the right, plus the self-token). This information is inferred from a description of Local Attention in one of the retrieved documents.\n",
      "True answer: 127 tokens\n"
     ]
    },
    {
     "name": "stderr",
     "output_type": "stream",
     "text": [
      "\u001b[33;1mCalling tool: 'retriever' with arguments: {'query': 'loading checkpoints with AutoPipeline'}\u001b[0m\n",
      "\u001b[33;1mCalling tool: 'final_answer' with arguments: {'answer': 'The method used to load a checkpoint for a task using `AutoPipeline` is the `from_pretrained()` method. For seamless task switching without reallocating additional memory, the `from_pipe()` method is utilized (Source Document 0).'}\u001b[0m\n",
      "  9%|▉         | 6/65 [01:25<12:18, 12.52s/it]\u001b[33;1m======== New task ========\u001b[0m\n",
      "\u001b[37;1mUsing the information contained in your knowledge base, which you can access with the 'retriever' tool,\n",
      "give a comprehensive answer to the question below.\n",
      "Respond only to the question asked, response should be concise and relevant to the question.\n",
      "Provide the number of the source document when relevant.\n",
      "If you cannot find information, do not give up and try calling your retriever again with different arguments!\n",
      "\n",
      "Question:\n",
      "What is the purpose of Diffusers library?\n",
      "\u001b[0m\n"
     ]
    },
    {
     "name": "stdout",
     "output_type": "stream",
     "text": [
      "=======================================================\n",
      "Question: What method is used to load a checkpoint for a task using `AutoPipeline`?\n",
      "\n",
      "Answer: The method used to load a checkpoint for a task using `AutoPipeline` is the `from_pretrained()` method. For seamless task switching without reallocating additional memory, the `from_pipe()` method is utilized (Source Document 0).\n",
      "True answer: from_pretrained()\n"
     ]
    },
    {
     "name": "stderr",
     "output_type": "stream",
     "text": [
      "\u001b[33;1mCalling tool: 'retriever' with arguments: {'query': {'type': 'text', 'description': 'What is the purpose of the Diffusers library?'}}\u001b[0m\n",
      "\u001b[31;20mError in tool call execution: Your search query must be a string\n",
      "You should only use this tool with a correct input.\n",
      "As a reminder, this tool's description is the following:\n",
      "\n",
      "- retriever: Using semantic similarity, retrieves some documents from the knowledge base that have the closest embeddings to the input query.\n",
      "    Takes inputs: {'query': {'type': 'text', 'description': 'The query to perform. This should be semantically close to your target documents. Use the affirmative form rather than a question.'}}\u001b[0m\n",
      "Traceback (most recent call last):\n",
      "  File \"/Users/aymeric/Documents/Code/original_transformers/transformers/src/transformers/agents/agents.py\", line 478, in execute_tool_call\n",
      "    observation = self.toolbox.tools[tool_name](**arguments)\n",
      "  File \"/Users/aymeric/Documents/Code/original_transformers/transformers/src/transformers/agents/tools.py\", line 134, in __call__\n",
      "    outputs = self.forward(*args, **kwargs)\n",
      "  File \"/var/folders/6m/9b1tts6d5w960j80wbw9tx3m0000gn/T/ipykernel_10832/4081367717.py\", line 22, in forward\n",
      "    assert isinstance(query, str), \"Your search query must be a string\"\n",
      "AssertionError: Your search query must be a string\n",
      "\n",
      "During handling of the above exception, another exception occurred:\n",
      "\n",
      "Traceback (most recent call last):\n",
      "  File \"/Users/aymeric/Documents/Code/original_transformers/transformers/src/transformers/agents/agents.py\", line 710, in direct_run\n",
      "    step_logs = self.step()\n",
      "  File \"/Users/aymeric/Documents/Code/original_transformers/transformers/src/transformers/agents/agents.py\", line 803, in step\n",
      "    observation = self.execute_tool_call(tool_name, arguments)\n",
      "  File \"/Users/aymeric/Documents/Code/original_transformers/transformers/src/transformers/agents/agents.py\", line 481, in execute_tool_call\n",
      "    raise AgentExecutionError(\n",
      "transformers.agents.agents.AgentExecutionError: Error in tool call execution: Your search query must be a string\n",
      "You should only use this tool with a correct input.\n",
      "As a reminder, this tool's description is the following:\n",
      "\n",
      "- retriever: Using semantic similarity, retrieves some documents from the knowledge base that have the closest embeddings to the input query.\n",
      "    Takes inputs: {'query': {'type': 'text', 'description': 'The query to perform. This should be semantically close to your target documents. Use the affirmative form rather than a question.'}}\n",
      "\u001b[33;1mCalling tool: 'retriever' with arguments: {'query': 'What is the purpose of the Diffusers library?'}\u001b[0m\n",
      "\u001b[33;1mCalling tool: 'final_answer' with arguments: {'answer': 'The Diffusers library is a generative AI tool principally designed to generate images, audio files and 3D molecular structures using diffusion models. [Source: documents 1,4,5]'}\u001b[0m\n",
      " 11%|█         | 7/65 [01:49<15:53, 16.43s/it]\u001b[33;1m======== New task ========\u001b[0m\n",
      "\u001b[37;1mUsing the information contained in your knowledge base, which you can access with the 'retriever' tool,\n",
      "give a comprehensive answer to the question below.\n",
      "Respond only to the question asked, response should be concise and relevant to the question.\n",
      "Provide the number of the source document when relevant.\n",
      "If you cannot find information, do not give up and try calling your retriever again with different arguments!\n",
      "\n",
      "Question:\n",
      "What method does the EulerAncestralDiscreteScheduler use for sampling?\n",
      "\u001b[0m\n"
     ]
    },
    {
     "name": "stdout",
     "output_type": "stream",
     "text": [
      "=======================================================\n",
      "Question: What is the purpose of Diffusers library?\n",
      "\n",
      "Answer: The Diffusers library is a generative AI tool principally designed to generate images, audio files and 3D molecular structures using diffusion models. [Source: documents 1,4,5]\n",
      "True answer: To serve as a modular toolbox for both inference and training of state-of-the-art pretrained diffusion models across multiple modalities.\n"
     ]
    },
    {
     "name": "stderr",
     "output_type": "stream",
     "text": [
      "\u001b[33;1mCalling tool: 'retriever' with arguments: {'query': 'What method does the EulerAncestralDiscreteScheduler use for sampling?'}\u001b[0m\n",
      "\u001b[33;1mCalling tool: 'final_answer' with arguments: {'answer': 'Ancestral sampling is used by the EulerAncestralDiscreteScheduler for sampling.'}\u001b[0m\n",
      " 12%|█▏        | 8/65 [02:00<13:49, 14.55s/it]\u001b[33;1m======== New task ========\u001b[0m\n",
      "\u001b[37;1mUsing the information contained in your knowledge base, which you can access with the 'retriever' tool,\n",
      "give a comprehensive answer to the question below.\n",
      "Respond only to the question asked, response should be concise and relevant to the question.\n",
      "Provide the number of the source document when relevant.\n",
      "If you cannot find information, do not give up and try calling your retriever again with different arguments!\n",
      "\n",
      "Question:\n",
      "What is the name of the large multimodal model that can solve image-text tasks and is based on Flamingo?\n",
      "\u001b[0m\n"
     ]
    },
    {
     "name": "stdout",
     "output_type": "stream",
     "text": [
      "=======================================================\n",
      "Question: What method does the EulerAncestralDiscreteScheduler use for sampling?\n",
      "\n",
      "Answer: Ancestral sampling is used by the EulerAncestralDiscreteScheduler for sampling.\n",
      "True answer: Ancestral sampling with Euler method steps.\n"
     ]
    },
    {
     "name": "stderr",
     "output_type": "stream",
     "text": [
      "\u001b[33;1mCalling tool: 'retriever' with arguments: {'query': 'Flamingo image-text'}\u001b[0m\n",
      "\u001b[33;1mCalling tool: 'retriever' with arguments: {'query': 'Flamingo model details'}\u001b[0m\n",
      "\u001b[33;1mCalling tool: 'final_answer' with arguments: {'answer': 'The name of the large multimodal model based on Flamingo is OpenFlamingo. It is an open reproduction of Flamingo at a scale of 9 billion parameters. This information was found in document 1.'}\u001b[0m\n",
      " 14%|█▍        | 9/65 [02:23<16:05, 17.25s/it]\u001b[33;1m======== New task ========\u001b[0m\n",
      "\u001b[37;1mUsing the information contained in your knowledge base, which you can access with the 'retriever' tool,\n",
      "give a comprehensive answer to the question below.\n",
      "Respond only to the question asked, response should be concise and relevant to the question.\n",
      "Provide the number of the source document when relevant.\n",
      "If you cannot find information, do not give up and try calling your retriever again with different arguments!\n",
      "\n",
      "Question:\n",
      "What is the purpose of the `gradio.Blocks` API?\n",
      "\u001b[0m\n"
     ]
    },
    {
     "name": "stdout",
     "output_type": "stream",
     "text": [
      "=======================================================\n",
      "Question: What is the name of the large multimodal model that can solve image-text tasks and is based on Flamingo?\n",
      "\n",
      "Answer: The name of the large multimodal model based on Flamingo is OpenFlamingo. It is an open reproduction of Flamingo at a scale of 9 billion parameters. This information was found in document 1.\n",
      "True answer: IDEFICS\n"
     ]
    },
    {
     "name": "stderr",
     "output_type": "stream",
     "text": [
      "\u001b[33;1mCalling tool: 'retriever' with arguments: {'query': 'Purpose of gradio.Blocks API'}\u001b[0m\n",
      "\u001b[33;1mCalling tool: 'final_answer' with arguments: {'answer': 'The `gradio.Blocks` API provides a low-level approach for designing web apps with flexible layouts and data flows, allowing control over component placement, handling complex data flows, and updating properties based on user interaction, all within a Python environment.'}\u001b[0m\n",
      " 15%|█▌        | 10/65 [02:38<15:06, 16.47s/it]\u001b[33;1m======== New task ========\u001b[0m\n",
      "\u001b[37;1mUsing the information contained in your knowledge base, which you can access with the 'retriever' tool,\n",
      "give a comprehensive answer to the question below.\n",
      "Respond only to the question asked, response should be concise and relevant to the question.\n",
      "Provide the number of the source document when relevant.\n",
      "If you cannot find information, do not give up and try calling your retriever again with different arguments!\n",
      "\n",
      "Question:\n",
      "What is the purpose of the two-stage model proposed in the paper \"Hierarchical Text-Conditional Image Generation with CLIP Latents\"?\n",
      "\u001b[0m\n"
     ]
    },
    {
     "name": "stdout",
     "output_type": "stream",
     "text": [
      "=======================================================\n",
      "Question: What is the purpose of the `gradio.Blocks` API?\n",
      "\n",
      "Answer: The `gradio.Blocks` API provides a low-level approach for designing web apps with flexible layouts and data flows, allowing control over component placement, handling complex data flows, and updating properties based on user interaction, all within a Python environment.\n",
      "True answer: The `gradio.Blocks` API allows you to have full control over the data flows and layout of your application, enabling the building of complex, multi-step applications.\n"
     ]
    },
    {
     "name": "stderr",
     "output_type": "stream",
     "text": [
      "\u001b[33;1mCalling tool: 'retriever' with arguments: {'query': 'Hierarchical Text-Conditional Image Generation with CLIP Latents paper purpose of two-stage model'}\u001b[0m\n",
      "\u001b[33;1mCalling tool: 'final_answer' with arguments: {'answer': \"The two-stage model proposed in the paper 'Hierarchical Text-Conditional Image Generation with CLIP Latents' by Ramesh et al. aims to generate images from text captions. It first turns text captions into CLIP image embeddings, which are then decoded into images using a diffusion model.\"}\u001b[0m\n",
      " 17%|█▋        | 11/65 [02:55<14:53, 16.54s/it]\u001b[33;1m======== New task ========\u001b[0m\n",
      "\u001b[37;1mUsing the information contained in your knowledge base, which you can access with the 'retriever' tool,\n",
      "give a comprehensive answer to the question below.\n",
      "Respond only to the question asked, response should be concise and relevant to the question.\n",
      "Provide the number of the source document when relevant.\n",
      "If you cannot find information, do not give up and try calling your retriever again with different arguments!\n",
      "\n",
      "Question:\n",
      "What command is used to install the requirements for a research project using 🤗 Transformers?\n",
      "\u001b[0m\n"
     ]
    },
    {
     "name": "stdout",
     "output_type": "stream",
     "text": [
      "=======================================================\n",
      "Question: What is the purpose of the two-stage model proposed in the paper \"Hierarchical Text-Conditional Image Generation with CLIP Latents\"?\n",
      "\n",
      "Answer: The two-stage model proposed in the paper 'Hierarchical Text-Conditional Image Generation with CLIP Latents' by Ramesh et al. aims to generate images from text captions. It first turns text captions into CLIP image embeddings, which are then decoded into images using a diffusion model.\n",
      "True answer: The purpose of the two-stage model is to generate a CLIP image embedding given a text caption and then generate an image conditioned on the image embedding.\n"
     ]
    },
    {
     "name": "stderr",
     "output_type": "stream",
     "text": [
      "\u001b[33;1mCalling tool: 'retriever' with arguments: {'query': 'What command is used to install the requirements for a research project using 🤗 Transformers?'}\u001b[0m\n",
      "\u001b[33;1mCalling tool: 'final_answer' with arguments: {'answer': \"The command used to install the requirements for a research project using 🤗 Transformers is 'pip install -r requirements.txt' or 'pip install .' depending on the context.\"}\u001b[0m\n",
      " 18%|█▊        | 12/65 [03:04<12:35, 14.25s/it]\u001b[33;1m======== New task ========\u001b[0m\n",
      "\u001b[37;1mUsing the information contained in your knowledge base, which you can access with the 'retriever' tool,\n",
      "give a comprehensive answer to the question below.\n",
      "Respond only to the question asked, response should be concise and relevant to the question.\n",
      "Provide the number of the source document when relevant.\n",
      "If you cannot find information, do not give up and try calling your retriever again with different arguments!\n",
      "\n",
      "Question:\n",
      "What task does the `roberta-large-mnli` checkpoint perform?\n",
      "\u001b[0m\n"
     ]
    },
    {
     "name": "stdout",
     "output_type": "stream",
     "text": [
      "=======================================================\n",
      "Question: What command is used to install the requirements for a research project using 🤗 Transformers?\n",
      "\n",
      "Answer: The command used to install the requirements for a research project using 🤗 Transformers is 'pip install -r requirements.txt' or 'pip install .' depending on the context.\n",
      "True answer: pip install -r requirements.txt\n"
     ]
    },
    {
     "name": "stderr",
     "output_type": "stream",
     "text": [
      "\u001b[33;1mCalling tool: 'retriever' with arguments: {'query': 'What task does the `roberta-large-mnli` checkpoint perform?'}\u001b[0m\n",
      "\u001b[33;1mCalling tool: 'retriever' with arguments: {'query': 'roberta-large-mnli task'}\u001b[0m\n",
      "\u001b[33;1mCalling tool: 'retriever' with arguments: {'query': 'roberta-large-mnli task natural language inference'}\u001b[0m\n",
      "\u001b[33;1mCalling tool: 'final_answer' with arguments: {'answer': 'The `roberta-large-mnli` checkpoint is used for Natural Language Inference (NLI).'}\u001b[0m\n",
      " 20%|██        | 13/65 [03:32<16:10, 18.67s/it]\u001b[33;1m======== New task ========\u001b[0m\n",
      "\u001b[37;1mUsing the information contained in your knowledge base, which you can access with the 'retriever' tool,\n",
      "give a comprehensive answer to the question below.\n",
      "Respond only to the question asked, response should be concise and relevant to the question.\n",
      "Provide the number of the source document when relevant.\n",
      "If you cannot find information, do not give up and try calling your retriever again with different arguments!\n",
      "\n",
      "Question:\n",
      "What service is replacing the Paid tier of the Inference API at Hugging Face?\n",
      "\u001b[0m\n"
     ]
    },
    {
     "name": "stdout",
     "output_type": "stream",
     "text": [
      "=======================================================\n",
      "Question: What task does the `roberta-large-mnli` checkpoint perform?\n",
      "\n",
      "Answer: The `roberta-large-mnli` checkpoint is used for Natural Language Inference (NLI).\n",
      "True answer: Text classification\n"
     ]
    },
    {
     "name": "stderr",
     "output_type": "stream",
     "text": [
      "\u001b[33;1mCalling tool: 'retriever' with arguments: {'query': 'What is replacing the Paid tier of the Inference API?'}\u001b[0m\n",
      "\u001b[33;1mCalling tool: 'final_answer' with arguments: {'answer': 'Inference Endpoints are replacing the Paid tier of the Inference API at Hugging Face, as stated in document 0.'}\u001b[0m\n",
      " 22%|██▏       | 14/65 [03:44<14:08, 16.65s/it]\u001b[33;1m======== New task ========\u001b[0m\n",
      "\u001b[37;1mUsing the information contained in your knowledge base, which you can access with the 'retriever' tool,\n",
      "give a comprehensive answer to the question below.\n",
      "Respond only to the question asked, response should be concise and relevant to the question.\n",
      "Provide the number of the source document when relevant.\n",
      "If you cannot find information, do not give up and try calling your retriever again with different arguments!\n",
      "\n",
      "Question:\n",
      "What architectural feature does SqueezeBERT use instead of fully-connected layers for the Q, K, V, and FFN layers?\n",
      "\u001b[0m\n"
     ]
    },
    {
     "name": "stdout",
     "output_type": "stream",
     "text": [
      "=======================================================\n",
      "Question: What service is replacing the Paid tier of the Inference API at Hugging Face?\n",
      "\n",
      "Answer: Inference Endpoints are replacing the Paid tier of the Inference API at Hugging Face, as stated in document 0.\n",
      "True answer: Inference Endpoints\n"
     ]
    },
    {
     "name": "stderr",
     "output_type": "stream",
     "text": [
      "\u001b[33;1mCalling tool: 'retriever' with arguments: {'query': 'What architectural feature does SqueezeBERT use instead of fully-connected layers for the Q, K, V, and FFN layers?'}\u001b[0m\n",
      "\u001b[33;1mCalling tool: 'final_answer' with arguments: {'answer': 'SqueezeBERT uses grouped convolutions instead of fully-connected layers for the Q, K, V, and FFN layers.'}\u001b[0m\n",
      " 23%|██▎       | 15/65 [03:53<11:55, 14.31s/it]\u001b[33;1m======== New task ========\u001b[0m\n",
      "\u001b[37;1mUsing the information contained in your knowledge base, which you can access with the 'retriever' tool,\n",
      "give a comprehensive answer to the question below.\n",
      "Respond only to the question asked, response should be concise and relevant to the question.\n",
      "Provide the number of the source document when relevant.\n",
      "If you cannot find information, do not give up and try calling your retriever again with different arguments!\n",
      "\n",
      "Question:\n",
      "What type of license is the HuggingFace Team's software distributed under?\n",
      "\u001b[0m\n"
     ]
    },
    {
     "name": "stdout",
     "output_type": "stream",
     "text": [
      "=======================================================\n",
      "Question: What architectural feature does SqueezeBERT use instead of fully-connected layers for the Q, K, V, and FFN layers?\n",
      "\n",
      "Answer: SqueezeBERT uses grouped convolutions instead of fully-connected layers for the Q, K, V, and FFN layers.\n",
      "True answer: Grouped convolutions\n"
     ]
    },
    {
     "name": "stderr",
     "output_type": "stream",
     "text": [
      "\u001b[33;1mCalling tool: 'retriever' with arguments: {'query': 'HuggingFace software license'}\u001b[0m\n",
      "\u001b[33;1mCalling tool: 'final_answer' with arguments: {'answer': \"The HuggingFace Team's software is distributed under the Apache License, Version 2.0.\"}\u001b[0m\n",
      " 25%|██▍       | 16/65 [04:06<11:10, 13.68s/it]\u001b[33;1m======== New task ========\u001b[0m\n",
      "\u001b[37;1mUsing the information contained in your knowledge base, which you can access with the 'retriever' tool,\n",
      "give a comprehensive answer to the question below.\n",
      "Respond only to the question asked, response should be concise and relevant to the question.\n",
      "Provide the number of the source document when relevant.\n",
      "If you cannot find information, do not give up and try calling your retriever again with different arguments!\n",
      "\n",
      "Question:\n",
      "What are the two parameter-reduction techniques proposed in the ALBERT model to lower memory consumption and increase training speed?\n",
      "\u001b[0m\n"
     ]
    },
    {
     "name": "stdout",
     "output_type": "stream",
     "text": [
      "=======================================================\n",
      "Question: What type of license is the HuggingFace Team's software distributed under?\n",
      "\n",
      "Answer: The HuggingFace Team's software is distributed under the Apache License, Version 2.0.\n",
      "True answer: Apache License, Version 2.0\n"
     ]
    },
    {
     "name": "stderr",
     "output_type": "stream",
     "text": [
      "\u001b[33;1mCalling tool: 'retriever' with arguments: {'query': 'What is the ALBERT model?'}\u001b[0m\n",
      "\u001b[33;1mCalling tool: 'retriever' with arguments: {'query': 'Document 4 ALBERT parameter reduction techniques'}\u001b[0m\n",
      "\u001b[33;1mCalling tool: 'final_answer' with arguments: {'answer': 'The two parameter-reduction techniques proposed in the ALBERT model to lower memory consumption and increase training speed are:\\n1. Splitting the embedding matrix into two smaller matrices.\\n2. Using repeating layers split among groups. (Document 4)'}\u001b[0m\n",
      " 26%|██▌       | 17/65 [04:17<10:28, 13.08s/it]\u001b[33;1m======== New task ========\u001b[0m\n",
      "\u001b[37;1mUsing the information contained in your knowledge base, which you can access with the 'retriever' tool,\n",
      "give a comprehensive answer to the question below.\n",
      "Respond only to the question asked, response should be concise and relevant to the question.\n",
      "Provide the number of the source document when relevant.\n",
      "If you cannot find information, do not give up and try calling your retriever again with different arguments!\n",
      "\n",
      "Question:\n",
      "What are the three main steps for fine-tuning a model with the 🤗 Datasets library?\n",
      "\u001b[0m\n"
     ]
    },
    {
     "name": "stdout",
     "output_type": "stream",
     "text": [
      "=======================================================\n",
      "Question: What are the two parameter-reduction techniques proposed in the ALBERT model to lower memory consumption and increase training speed?\n",
      "\n",
      "Answer: The two parameter-reduction techniques proposed in the ALBERT model to lower memory consumption and increase training speed are:\n",
      "1. Splitting the embedding matrix into two smaller matrices.\n",
      "2. Using repeating layers split among groups. (Document 4)\n",
      "True answer: Splitting the embedding matrix into two smaller matrices and using repeating layers split among groups.\n"
     ]
    },
    {
     "name": "stderr",
     "output_type": "stream",
     "text": [
      "\u001b[33;1mCalling tool: 'retriever' with arguments: {'query': 'Steps for fine-tuning a model with the Hugging Face Datasets library'}\u001b[0m\n",
      "\u001b[33;1mCalling tool: 'retriever' with arguments: {'query': 'What are the steps for fine-tuning a model Hugging Face Datasets library'}\u001b[0m\n",
      "\u001b[33;1mCalling tool: 'final_answer' with arguments: {'answer': 'The three main steps for fine-tuning a model with the Hugging Face Datasets library are: \\n\\n1. Finding a suitable pretrained model for fine-tuning on the Hugging Face Hub (Document 0).\\n2. Using the Hugging Face Datasets library to download and preprocess publicly available datasets (Document 3, Document 4).\\n3. Optimizing the fine-tuning process with tools like Weights & Biases or Hugging Face Optimum (Document 1, Document 5, Document 6).'}\u001b[0m\n",
      " 28%|██▊       | 18/65 [04:39<12:22, 15.80s/it]\u001b[33;1m======== New task ========\u001b[0m\n",
      "\u001b[37;1mUsing the information contained in your knowledge base, which you can access with the 'retriever' tool,\n",
      "give a comprehensive answer to the question below.\n",
      "Respond only to the question asked, response should be concise and relevant to the question.\n",
      "Provide the number of the source document when relevant.\n",
      "If you cannot find information, do not give up and try calling your retriever again with different arguments!\n",
      "\n",
      "Question:\n",
      "What is the maximum improvement in throughput achieved by Hugging Face Infinity compared to vanilla transformers?\n",
      "\u001b[0m\n"
     ]
    },
    {
     "name": "stdout",
     "output_type": "stream",
     "text": [
      "=======================================================\n",
      "Question: What are the three main steps for fine-tuning a model with the 🤗 Datasets library?\n",
      "\n",
      "Answer: The three main steps for fine-tuning a model with the Hugging Face Datasets library are: \n",
      "\n",
      "1. Finding a suitable pretrained model for fine-tuning on the Hugging Face Hub (Document 0).\n",
      "2. Using the Hugging Face Datasets library to download and preprocess publicly available datasets (Document 3, Document 4).\n",
      "3. Optimizing the fine-tuning process with tools like Weights & Biases or Hugging Face Optimum (Document 1, Document 5, Document 6).\n",
      "True answer: 1. Load a dataset from the Hugging Face Hub. 2. Preprocess the data with `Dataset.map()`. 3. Load and compute metrics.\n"
     ]
    },
    {
     "name": "stderr",
     "output_type": "stream",
     "text": [
      "\u001b[33;1mCalling tool: 'retriever' with arguments: {'query': 'What is the maximum improvement in throughput achieved by Hugging Face Infinity compared to vanilla transformers?'}\u001b[0m\n",
      "\u001b[33;1mCalling tool: 'final_answer' with arguments: {'answer': 'The maximum improvement in throughput achieved by Hugging Face Infinity compared to vanilla transformers is 800%.'}\u001b[0m\n",
      " 29%|██▉       | 19/65 [04:48<10:32, 13.76s/it]\u001b[33;1m======== New task ========\u001b[0m\n",
      "\u001b[37;1mUsing the information contained in your knowledge base, which you can access with the 'retriever' tool,\n",
      "give a comprehensive answer to the question below.\n",
      "Respond only to the question asked, response should be concise and relevant to the question.\n",
      "Provide the number of the source document when relevant.\n",
      "If you cannot find information, do not give up and try calling your retriever again with different arguments!\n",
      "\n",
      "Question:\n",
      "What is the command to upload a spaCy pipeline to the Hugging Face Hub?\n",
      "\u001b[0m\n"
     ]
    },
    {
     "name": "stdout",
     "output_type": "stream",
     "text": [
      "=======================================================\n",
      "Question: What is the maximum improvement in throughput achieved by Hugging Face Infinity compared to vanilla transformers?\n",
      "\n",
      "Answer: The maximum improvement in throughput achieved by Hugging Face Infinity compared to vanilla transformers is 800%.\n",
      "True answer: +800%\n"
     ]
    },
    {
     "name": "stderr",
     "output_type": "stream",
     "text": [
      "\u001b[33;1mCalling tool: 'retriever' with arguments: {'query': 'What is the command to upload a spaCy pipeline to the Hugging Face Hub?'}\u001b[0m\n",
      "\u001b[33;1mCalling tool: 'final_answer' with arguments: {'answer': 'The command to upload a spaCy pipeline to the Hugging Face Hub is: `python -m spacy huggingface-hub push [whl_path]`. Before running this command, ensure you have the `spacy-huggingface-hub` package installed and have logged in with `huggingface-cli login`. The `[whl_path]` should be the path to the .whl file you want to upload.'}\u001b[0m\n",
      " 31%|███       | 20/65 [04:59<09:38, 12.85s/it]\u001b[33;1m======== New task ========\u001b[0m\n",
      "\u001b[37;1mUsing the information contained in your knowledge base, which you can access with the 'retriever' tool,\n",
      "give a comprehensive answer to the question below.\n",
      "Respond only to the question asked, response should be concise and relevant to the question.\n",
      "Provide the number of the source document when relevant.\n",
      "If you cannot find information, do not give up and try calling your retriever again with different arguments!\n",
      "\n",
      "Question:\n",
      "What is the time and memory complexity of the Nyströmformer's approximation of self-attention?\n",
      "\u001b[0m\n"
     ]
    },
    {
     "name": "stdout",
     "output_type": "stream",
     "text": [
      "=======================================================\n",
      "Question: What is the command to upload a spaCy pipeline to the Hugging Face Hub?\n",
      "\n",
      "Answer: The command to upload a spaCy pipeline to the Hugging Face Hub is: `python -m spacy huggingface-hub push [whl_path]`. Before running this command, ensure you have the `spacy-huggingface-hub` package installed and have logged in with `huggingface-cli login`. The `[whl_path]` should be the path to the .whl file you want to upload.\n",
      "True answer: python -m spacy huggingface-hub push en_ner_fashion-0.0.0-py3-none-any.whl\n"
     ]
    },
    {
     "name": "stderr",
     "output_type": "stream",
     "text": [
      "\u001b[33;1mCalling tool: 'retriever' with arguments: {'query': \"What is the time and memory complexity of the Nyströmformer's approximation of self-attention?\"}\u001b[0m\n",
      "\u001b[33;1mCalling tool: 'final_answer' with arguments: {'answer': \"The Nyströmformer's approximation of self-attention has a time complexity of O(n) as mentioned in Document 1, and a memory complexity of O(n^2) as mentioned in Document 2.\"}\u001b[0m\n",
      " 32%|███▏      | 21/65 [05:11<09:15, 12.63s/it]\u001b[33;1m======== New task ========\u001b[0m\n",
      "\u001b[37;1mUsing the information contained in your knowledge base, which you can access with the 'retriever' tool,\n",
      "give a comprehensive answer to the question below.\n",
      "Respond only to the question asked, response should be concise and relevant to the question.\n",
      "Provide the number of the source document when relevant.\n",
      "If you cannot find information, do not give up and try calling your retriever again with different arguments!\n",
      "\n",
      "Question:\n",
      "What is the goal of the Named Entity Recognition task in token classification?\n",
      "\u001b[0m\n"
     ]
    },
    {
     "name": "stdout",
     "output_type": "stream",
     "text": [
      "=======================================================\n",
      "Question: What is the time and memory complexity of the Nyströmformer's approximation of self-attention?\n",
      "\n",
      "Answer: The Nyströmformer's approximation of self-attention has a time complexity of O(n) as mentioned in Document 1, and a memory complexity of O(n^2) as mentioned in Document 2.\n",
      "True answer: O(n)\n"
     ]
    },
    {
     "name": "stderr",
     "output_type": "stream",
     "text": [
      "\u001b[33;1mCalling tool: 'retriever' with arguments: {'query': 'What is the goal of the Named Entity Recognition task in token classification?'}\u001b[0m\n",
      "\u001b[33;1mCalling tool: 'final_answer' with arguments: {'answer': 'The goal of the Named Entity Recognition (NER) task in token classification is to find and label entities in a piece of text, such as person, location, or organization. Each token in the sentence is assigned a specific class or label corresponding to an entity, with an additional class for tokens that are not entities.'}\u001b[0m\n",
      " 34%|███▍      | 22/65 [05:23<08:56, 12.47s/it]\u001b[33;1m======== New task ========\u001b[0m\n",
      "\u001b[37;1mUsing the information contained in your knowledge base, which you can access with the 'retriever' tool,\n",
      "give a comprehensive answer to the question below.\n",
      "Respond only to the question asked, response should be concise and relevant to the question.\n",
      "Provide the number of the source document when relevant.\n",
      "If you cannot find information, do not give up and try calling your retriever again with different arguments!\n",
      "\n",
      "Question:\n",
      "What is the resolution of images used by the CLIPSeg model?\n",
      "\u001b[0m\n"
     ]
    },
    {
     "name": "stdout",
     "output_type": "stream",
     "text": [
      "=======================================================\n",
      "Question: What is the goal of the Named Entity Recognition task in token classification?\n",
      "\n",
      "Answer: The goal of the Named Entity Recognition (NER) task in token classification is to find and label entities in a piece of text, such as person, location, or organization. Each token in the sentence is assigned a specific class or label corresponding to an entity, with an additional class for tokens that are not entities.\n",
      "True answer: The goal of the Named Entity Recognition task is to find the entities in a piece of text, such as person, location, or organization.\n"
     ]
    },
    {
     "name": "stderr",
     "output_type": "stream",
     "text": [
      "\u001b[33;1mCalling tool: 'retriever' with arguments: {'query': 'CLIPSeg model'}\u001b[0m\n",
      "\u001b[33;1mCalling tool: 'retriever' with arguments: {'query': {'image': 'https://huggingface.co/datasets/huggingface/documentation-images/resolve/main/transformers/model_doc/clipseg_architecture.png'}}\u001b[0m\n",
      "\u001b[31;20mError in tool call execution: Your search query must be a string\n",
      "You should only use this tool with a correct input.\n",
      "As a reminder, this tool's description is the following:\n",
      "\n",
      "- retriever: Using semantic similarity, retrieves some documents from the knowledge base that have the closest embeddings to the input query.\n",
      "    Takes inputs: {'query': {'type': 'text', 'description': 'The query to perform. This should be semantically close to your target documents. Use the affirmative form rather than a question.'}}\u001b[0m\n",
      "Traceback (most recent call last):\n",
      "  File \"/Users/aymeric/Documents/Code/original_transformers/transformers/src/transformers/agents/agents.py\", line 478, in execute_tool_call\n",
      "    observation = self.toolbox.tools[tool_name](**arguments)\n",
      "  File \"/Users/aymeric/Documents/Code/original_transformers/transformers/src/transformers/agents/tools.py\", line 134, in __call__\n",
      "    outputs = self.forward(*args, **kwargs)\n",
      "  File \"/var/folders/6m/9b1tts6d5w960j80wbw9tx3m0000gn/T/ipykernel_10832/4081367717.py\", line 22, in forward\n",
      "    assert isinstance(query, str), \"Your search query must be a string\"\n",
      "AssertionError: Your search query must be a string\n",
      "\n",
      "During handling of the above exception, another exception occurred:\n",
      "\n",
      "Traceback (most recent call last):\n",
      "  File \"/Users/aymeric/Documents/Code/original_transformers/transformers/src/transformers/agents/agents.py\", line 710, in direct_run\n",
      "    step_logs = self.step()\n",
      "  File \"/Users/aymeric/Documents/Code/original_transformers/transformers/src/transformers/agents/agents.py\", line 803, in step\n",
      "    observation = self.execute_tool_call(tool_name, arguments)\n",
      "  File \"/Users/aymeric/Documents/Code/original_transformers/transformers/src/transformers/agents/agents.py\", line 481, in execute_tool_call\n",
      "    raise AgentExecutionError(\n",
      "transformers.agents.agents.AgentExecutionError: Error in tool call execution: Your search query must be a string\n",
      "You should only use this tool with a correct input.\n",
      "As a reminder, this tool's description is the following:\n",
      "\n",
      "- retriever: Using semantic similarity, retrieves some documents from the knowledge base that have the closest embeddings to the input query.\n",
      "    Takes inputs: {'query': {'type': 'text', 'description': 'The query to perform. This should be semantically close to your target documents. Use the affirmative form rather than a question.'}}\n",
      "\u001b[33;1mCalling tool: 'retriever' with arguments: {'query': 'https://huggingface.co/datasets/huggingface/documentation-images/resolve/main/transformers/model_doc/clipseg_architecture.png'}\u001b[0m\n",
      "\u001b[33;1mCalling tool: 'retriever' with arguments: {'query': 'CLIPSeg input image resolution'}\u001b[0m\n",
      "\u001b[31;20mReached max iterations.\u001b[0m\n",
      "NoneType: None\n",
      " 35%|███▌      | 23/65 [05:54<12:28, 17.83s/it]\u001b[33;1m======== New task ========\u001b[0m\n",
      "\u001b[37;1mUsing the information contained in your knowledge base, which you can access with the 'retriever' tool,\n",
      "give a comprehensive answer to the question below.\n",
      "Respond only to the question asked, response should be concise and relevant to the question.\n",
      "Provide the number of the source document when relevant.\n",
      "If you cannot find information, do not give up and try calling your retriever again with different arguments!\n",
      "\n",
      "Question:\n",
      "What can you use Gradio for?\n",
      "\u001b[0m\n"
     ]
    },
    {
     "name": "stdout",
     "output_type": "stream",
     "text": [
      "=======================================================\n",
      "Question: What is the resolution of images used by the CLIPSeg model?\n",
      "\n",
      "Answer: The CLIPSeg model uses images with a resolution of 352 x 352 pixels. This information was mentioned in Document 0. The low-resolution output of the model is a limitation, leading to less precise segmentation masks. The model's authors suggest that, for more accurate segmentations, one could fine-tune a state-of-the-art segmentation model using CLIPSeg's rough segmentation labels. This two-step process can improve the final output's accuracy.\n",
      "True answer: 352 x 352 pixels\n"
     ]
    },
    {
     "name": "stderr",
     "output_type": "stream",
     "text": [
      "\u001b[33;1mCalling tool: 'retriever' with arguments: {'query': 'What is Gradio used for.'}\u001b[0m\n",
      "\u001b[33;1mCalling tool: 'retriever' with arguments: {'query': 'Gradio app use case'}\u001b[0m\n",
      "\u001b[33;1mCalling tool: 'final_answer' with arguments: {'answer': 'Gradio is a Python library used for creating web applications to showcase machine learning models and data processing pipelines. It allows users to quickly build customized apps that can be deployed on platforms like Hugging Face Spaces.'}\u001b[0m\n",
      " 37%|███▋      | 24/65 [06:13<12:31, 18.34s/it]\u001b[33;1m======== New task ========\u001b[0m\n",
      "\u001b[37;1mUsing the information contained in your knowledge base, which you can access with the 'retriever' tool,\n",
      "give a comprehensive answer to the question below.\n",
      "Respond only to the question asked, response should be concise and relevant to the question.\n",
      "Provide the number of the source document when relevant.\n",
      "If you cannot find information, do not give up and try calling your retriever again with different arguments!\n",
      "\n",
      "Question:\n",
      "What TensorFlow API function is used to load a saved tensor file?\n",
      "\u001b[0m\n"
     ]
    },
    {
     "name": "stdout",
     "output_type": "stream",
     "text": [
      "=======================================================\n",
      "Question: What can you use Gradio for?\n",
      "\n",
      "Answer: Gradio is a Python library used for creating web applications to showcase machine learning models and data processing pipelines. It allows users to quickly build customized apps that can be deployed on platforms like Hugging Face Spaces.\n",
      "True answer: Create a demo for your machine learning model, share your machine learning model with others, and debug your model.\n"
     ]
    },
    {
     "name": "stderr",
     "output_type": "stream",
     "text": [
      "\u001b[33;1mCalling tool: 'retriever' with arguments: {'query': 'TensorFlow API function to load saved tensor file'}\u001b[0m\n",
      "\u001b[33;1mCalling tool: 'retriever' with arguments: {'query': 'TensorFlow function load tensor file'}\u001b[0m\n",
      "\u001b[33;1mCalling tool: 'final_answer' with arguments: {'answer': 'The TensorFlow API function used to load a saved tensor file is safetensors.tensorflow.load or safetensors.tensorflow.load_file. This information is found in Document 0.'}\u001b[0m\n",
      " 38%|███▊      | 25/65 [06:27<11:15, 16.89s/it]\u001b[33;1m======== New task ========\u001b[0m\n",
      "\u001b[37;1mUsing the information contained in your knowledge base, which you can access with the 'retriever' tool,\n",
      "give a comprehensive answer to the question below.\n",
      "Respond only to the question asked, response should be concise and relevant to the question.\n",
      "Provide the number of the source document when relevant.\n",
      "If you cannot find information, do not give up and try calling your retriever again with different arguments!\n",
      "\n",
      "Question:\n",
      "Where can you access the logs of your Endpoints in Hugging Face Endpoints?\n",
      "\u001b[0m\n"
     ]
    },
    {
     "name": "stdout",
     "output_type": "stream",
     "text": [
      "=======================================================\n",
      "Question: What TensorFlow API function is used to load a saved tensor file?\n",
      "\n",
      "Answer: The TensorFlow API function used to load a saved tensor file is safetensors.tensorflow.load or safetensors.tensorflow.load_file. This information is found in Document 0.\n",
      "True answer: safetensors.tensorflow.load_file\n"
     ]
    },
    {
     "name": "stderr",
     "output_type": "stream",
     "text": [
      "\u001b[33;1mCalling tool: 'retriever' with arguments: {'query': 'Hugging Face Endpoints logs'}\u001b[0m\n",
      "\u001b[33;1mCalling tool: 'final_answer' with arguments: {'answer': \"You can access the logs of your Hugging Face Endpoints in the UI, under the 'Logs' tab of your Endpoint. This feature is mentioned in Document 0.\"}\u001b[0m\n",
      " 40%|████      | 26/65 [06:36<09:35, 14.75s/it]\u001b[33;1m======== New task ========\u001b[0m\n",
      "\u001b[37;1mUsing the information contained in your knowledge base, which you can access with the 'retriever' tool,\n",
      "give a comprehensive answer to the question below.\n",
      "Respond only to the question asked, response should be concise and relevant to the question.\n",
      "Provide the number of the source document when relevant.\n",
      "If you cannot find information, do not give up and try calling your retriever again with different arguments!\n",
      "\n",
      "Question:\n",
      "What is the latest task added to Hugging Face AutoTrain for Computer Vision?\n",
      "\u001b[0m\n"
     ]
    },
    {
     "name": "stdout",
     "output_type": "stream",
     "text": [
      "=======================================================\n",
      "Question: Where can you access the logs of your Endpoints in Hugging Face Endpoints?\n",
      "\n",
      "Answer: You can access the logs of your Hugging Face Endpoints in the UI, under the 'Logs' tab of your Endpoint. This feature is mentioned in Document 0.\n",
      "True answer: In the \"Logs\" tab of your Endpoint through the UI.\n"
     ]
    },
    {
     "name": "stderr",
     "output_type": "stream",
     "text": [
      "\u001b[33;1mCalling tool: 'retriever' with arguments: {'query': 'Hugging Face AutoTrain for Computer Vision'}\u001b[0m\n",
      "\u001b[33;1mCalling tool: 'final_answer' with arguments: {'answer': 'Image classification is the latest task added to Hugging Face AutoTrain for Computer Vision, as mentioned in the first retrieved document.'}\u001b[0m\n",
      " 42%|████▏     | 27/65 [06:46<08:22, 13.22s/it]\u001b[33;1m======== New task ========\u001b[0m\n",
      "\u001b[37;1mUsing the information contained in your knowledge base, which you can access with the 'retriever' tool,\n",
      "give a comprehensive answer to the question below.\n",
      "Respond only to the question asked, response should be concise and relevant to the question.\n",
      "Provide the number of the source document when relevant.\n",
      "If you cannot find information, do not give up and try calling your retriever again with different arguments!\n",
      "\n",
      "Question:\n",
      "What is the default repository type created by the `create_repo` function on Hugging Face Hub?\n",
      "\u001b[0m\n"
     ]
    },
    {
     "name": "stdout",
     "output_type": "stream",
     "text": [
      "=======================================================\n",
      "Question: What is the latest task added to Hugging Face AutoTrain for Computer Vision?\n",
      "\n",
      "Answer: Image classification is the latest task added to Hugging Face AutoTrain for Computer Vision, as mentioned in the first retrieved document.\n",
      "True answer: Image Classification\n"
     ]
    },
    {
     "name": "stderr",
     "output_type": "stream",
     "text": [
      "\u001b[33;1mCalling tool: 'retriever' with arguments: {'query': 'What is the default repository type created by the `create_repo` function on Hugging Face Hub?'}\u001b[0m\n",
      "\u001b[33;1mCalling tool: 'final_answer' with arguments: {'answer': 'The default repository type created by the `create_repo` function on Hugging Face Hub is a model repository, as seen in Document 2.'}\u001b[0m\n",
      " 43%|████▎     | 28/65 [07:00<08:15, 13.40s/it]\u001b[33;1m======== New task ========\u001b[0m\n",
      "\u001b[37;1mUsing the information contained in your knowledge base, which you can access with the 'retriever' tool,\n",
      "give a comprehensive answer to the question below.\n",
      "Respond only to the question asked, response should be concise and relevant to the question.\n",
      "Provide the number of the source document when relevant.\n",
      "If you cannot find information, do not give up and try calling your retriever again with different arguments!\n",
      "\n",
      "Question:\n",
      "How many splits does the \"duorc\" dataset have?\n",
      "\u001b[0m\n"
     ]
    },
    {
     "name": "stdout",
     "output_type": "stream",
     "text": [
      "=======================================================\n",
      "Question: What is the default repository type created by the `create_repo` function on Hugging Face Hub?\n",
      "\n",
      "Answer: The default repository type created by the `create_repo` function on Hugging Face Hub is a model repository, as seen in Document 2.\n",
      "True answer: model\n"
     ]
    },
    {
     "name": "stderr",
     "output_type": "stream",
     "text": [
      "\u001b[33;1mCalling tool: 'retriever' with arguments: {'query': 'duorc dataset'}\u001b[0m\n",
      "\u001b[33;1mCalling tool: 'final_answer' with arguments: {'answer': \"The 'duorc' dataset has three splits: 'train', 'validation', and 'test'.\"}\u001b[0m\n",
      " 45%|████▍     | 29/65 [07:17<08:39, 14.44s/it]\u001b[33;1m======== New task ========\u001b[0m\n",
      "\u001b[37;1mUsing the information contained in your knowledge base, which you can access with the 'retriever' tool,\n",
      "give a comprehensive answer to the question below.\n",
      "Respond only to the question asked, response should be concise and relevant to the question.\n",
      "Provide the number of the source document when relevant.\n",
      "If you cannot find information, do not give up and try calling your retriever again with different arguments!\n",
      "\n",
      "Question:\n",
      "What is the purpose of Fully Sharded Data Parallel (FSDP) in distributed training?\n",
      "\u001b[0m\n"
     ]
    },
    {
     "name": "stdout",
     "output_type": "stream",
     "text": [
      "=======================================================\n",
      "Question: How many splits does the \"duorc\" dataset have?\n",
      "\n",
      "Answer: The 'duorc' dataset has three splits: 'train', 'validation', and 'test'.\n",
      "True answer: Six\n"
     ]
    },
    {
     "name": "stderr",
     "output_type": "stream",
     "text": [
      "\u001b[33;1mCalling tool: 'retriever' with arguments: {'query': 'Fully Sharded Data Parallel (FSDP) in distributed training purpose'}\u001b[0m\n",
      "\u001b[33;1mCalling tool: 'final_answer' with arguments: {'answer': 'The purpose of Fully Sharded Data Parallel (FSDP) in distributed training is to efficiently train large pre-trained models with up to 1T parameters by sharding model parameters, gradients, and optimizer states across data parallel processes, thereby allowing larger batch or model sizes to be used. This reduces memory usage by avoiding the need to replicate the entire model on each GPU.'}\u001b[0m\n",
      " 46%|████▌     | 30/65 [07:29<08:02, 13.79s/it]\u001b[33;1m======== New task ========\u001b[0m\n",
      "\u001b[37;1mUsing the information contained in your knowledge base, which you can access with the 'retriever' tool,\n",
      "give a comprehensive answer to the question below.\n",
      "Respond only to the question asked, response should be concise and relevant to the question.\n",
      "Provide the number of the source document when relevant.\n",
      "If you cannot find information, do not give up and try calling your retriever again with different arguments!\n",
      "\n",
      "Question:\n",
      "What file format is used to save and store PyTorch model weights more securely than `.bin` files?\n",
      "\u001b[0m\n"
     ]
    },
    {
     "name": "stdout",
     "output_type": "stream",
     "text": [
      "=======================================================\n",
      "Question: What is the purpose of Fully Sharded Data Parallel (FSDP) in distributed training?\n",
      "\n",
      "Answer: The purpose of Fully Sharded Data Parallel (FSDP) in distributed training is to efficiently train large pre-trained models with up to 1T parameters by sharding model parameters, gradients, and optimizer states across data parallel processes, thereby allowing larger batch or model sizes to be used. This reduces memory usage by avoiding the need to replicate the entire model on each GPU.\n",
      "True answer: FSDP is developed for distributed training of large pretrained models up to 1T parameters by sharding the model parameters, gradients, and optimizer states across data parallel processes.\n"
     ]
    },
    {
     "name": "stderr",
     "output_type": "stream",
     "text": [
      "\u001b[33;1mCalling tool: 'retriever' with arguments: {'query': \"What file format is used to save and store PyTorch model weights more securely than '.bin' files?\"}\u001b[0m\n",
      "\u001b[33;1mCalling tool: 'final_answer' with arguments: {'answer': 'The file format used to save and store PyTorch model weights more securely than `.bin` files is the `safetensor` format.'}\u001b[0m\n",
      " 48%|████▊     | 31/65 [07:43<07:55, 13.98s/it]\u001b[33;1m======== New task ========\u001b[0m\n",
      "\u001b[37;1mUsing the information contained in your knowledge base, which you can access with the 'retriever' tool,\n",
      "give a comprehensive answer to the question below.\n",
      "Respond only to the question asked, response should be concise and relevant to the question.\n",
      "Provide the number of the source document when relevant.\n",
      "If you cannot find information, do not give up and try calling your retriever again with different arguments!\n",
      "\n",
      "Question:\n",
      "What type of security certification does Hugging Face have?\n",
      "\u001b[0m\n"
     ]
    },
    {
     "name": "stdout",
     "output_type": "stream",
     "text": [
      "=======================================================\n",
      "Question: What file format is used to save and store PyTorch model weights more securely than `.bin` files?\n",
      "\n",
      "Answer: The file format used to save and store PyTorch model weights more securely than `.bin` files is the `safetensor` format.\n",
      "True answer: `.safetensors`\n"
     ]
    },
    {
     "name": "stderr",
     "output_type": "stream",
     "text": [
      "\u001b[33;1mCalling tool: 'retriever' with arguments: {'query': 'Hugging Face security certification'}\u001b[0m\n",
      "\u001b[33;1mCalling tool: 'final_answer' with arguments: {'answer': 'Hugging Face has SOC2 Type 2 security certification.'}\u001b[0m\n",
      " 49%|████▉     | 32/65 [07:54<07:05, 12.89s/it]\u001b[33;1m======== New task ========\u001b[0m\n",
      "\u001b[37;1mUsing the information contained in your knowledge base, which you can access with the 'retriever' tool,\n",
      "give a comprehensive answer to the question below.\n",
      "Respond only to the question asked, response should be concise and relevant to the question.\n",
      "Provide the number of the source document when relevant.\n",
      "If you cannot find information, do not give up and try calling your retriever again with different arguments!\n",
      "\n",
      "Question:\n",
      "What do RAG models combine to generate outputs?\n",
      "\u001b[0m\n"
     ]
    },
    {
     "name": "stdout",
     "output_type": "stream",
     "text": [
      "=======================================================\n",
      "Question: What type of security certification does Hugging Face have?\n",
      "\n",
      "Answer: Hugging Face has SOC2 Type 2 security certification.\n",
      "True answer: SOC2 Type 2 certified\n"
     ]
    },
    {
     "name": "stderr",
     "output_type": "stream",
     "text": [
      "\u001b[33;1mCalling tool: 'retriever' with arguments: {'query': 'What do RAG models combine to generate outputs?'}\u001b[0m\n",
      "\u001b[33;1mCalling tool: 'final_answer' with arguments: {'answer': 'RAG models combine the capabilities of pre-trained dense retrieval (DPR) and sequence-to-sequence models. The models retrieve documents, pass them to a seq2seq model, and then marginalize the results to generate outputs.'}\u001b[0m\n",
      " 51%|█████     | 33/65 [08:12<07:41, 14.43s/it]\u001b[33;1m======== New task ========\u001b[0m\n",
      "\u001b[37;1mUsing the information contained in your knowledge base, which you can access with the 'retriever' tool,\n",
      "give a comprehensive answer to the question below.\n",
      "Respond only to the question asked, response should be concise and relevant to the question.\n",
      "Provide the number of the source document when relevant.\n",
      "If you cannot find information, do not give up and try calling your retriever again with different arguments!\n",
      "\n",
      "Question:\n",
      "What library does MarkupLMFeatureExtractor use to extract data from HTML and XML files?\n",
      "\u001b[0m\n"
     ]
    },
    {
     "name": "stdout",
     "output_type": "stream",
     "text": [
      "=======================================================\n",
      "Question: What do RAG models combine to generate outputs?\n",
      "\n",
      "Answer: RAG models combine the capabilities of pre-trained dense retrieval (DPR) and sequence-to-sequence models. The models retrieve documents, pass them to a seq2seq model, and then marginalize the results to generate outputs.\n",
      "True answer: Pretrained dense retrieval (DPR) and sequence-to-sequence models.\n"
     ]
    },
    {
     "name": "stderr",
     "output_type": "stream",
     "text": [
      "\u001b[33;1mCalling tool: 'retriever' with arguments: {'query': 'MarkupLMFeatureExtractor'}\u001b[0m\n",
      "\u001b[33;1mCalling tool: 'final_answer' with arguments: {'answer': 'The MarkupLMFeatureExtractor uses the Beautiful Soup python library for extracting data from HTML and XML files.'}\u001b[0m\n",
      " 52%|█████▏    | 34/65 [08:30<07:57, 15.42s/it]\u001b[33;1m======== New task ========\u001b[0m\n",
      "\u001b[37;1mUsing the information contained in your knowledge base, which you can access with the 'retriever' tool,\n",
      "give a comprehensive answer to the question below.\n",
      "Respond only to the question asked, response should be concise and relevant to the question.\n",
      "Provide the number of the source document when relevant.\n",
      "If you cannot find information, do not give up and try calling your retriever again with different arguments!\n",
      "\n",
      "Question:\n",
      "What is the file size limit for syncing to HF Spaces without using Git-LFS?\n",
      "\u001b[0m\n"
     ]
    },
    {
     "name": "stdout",
     "output_type": "stream",
     "text": [
      "=======================================================\n",
      "Question: What library does MarkupLMFeatureExtractor use to extract data from HTML and XML files?\n",
      "\n",
      "Answer: The MarkupLMFeatureExtractor uses the Beautiful Soup python library for extracting data from HTML and XML files.\n",
      "True answer: Beautiful Soup\n"
     ]
    },
    {
     "name": "stderr",
     "output_type": "stream",
     "text": [
      "\u001b[33;1mCalling tool: 'retriever' with arguments: {'query': 'file size limit syncing HF Spaces without Git-LFS'}\u001b[0m\n",
      "\u001b[33;1mCalling tool: 'final_answer' with arguments: {'answer': 'The file size limit for syncing to HF Spaces without using Git-LFS is less than or equal to 10MB (as mentioned in Document 1).'}\u001b[0m\n",
      " 54%|█████▍    | 35/65 [08:41<07:04, 14.14s/it]\u001b[33;1m======== New task ========\u001b[0m\n",
      "\u001b[37;1mUsing the information contained in your knowledge base, which you can access with the 'retriever' tool,\n",
      "give a comprehensive answer to the question below.\n",
      "Respond only to the question asked, response should be concise and relevant to the question.\n",
      "Provide the number of the source document when relevant.\n",
      "If you cannot find information, do not give up and try calling your retriever again with different arguments!\n",
      "\n",
      "Question:\n",
      "What is the title of the paper introducing the ByT5 model?\n",
      "\u001b[0m\n"
     ]
    },
    {
     "name": "stdout",
     "output_type": "stream",
     "text": [
      "=======================================================\n",
      "Question: What is the file size limit for syncing to HF Spaces without using Git-LFS?\n",
      "\n",
      "Answer: The file size limit for syncing to HF Spaces without using Git-LFS is less than or equal to 10MB (as mentioned in Document 1).\n",
      "True answer: 10MB\n"
     ]
    },
    {
     "name": "stderr",
     "output_type": "stream",
     "text": [
      "\u001b[33;1mCalling tool: 'retriever' with arguments: {'query': 'Introduction paper ByT5 model'}\u001b[0m\n",
      "\u001b[33;1mCalling tool: 'final_answer' with arguments: {'answer': \"The title of the paper introducing the ByT5 model is: 'ByT5: Towards a token-free future with pre-trained byte-to-byte models'.\"}\u001b[0m\n",
      " 55%|█████▌    | 36/65 [08:50<06:06, 12.63s/it]\u001b[33;1m======== New task ========\u001b[0m\n",
      "\u001b[37;1mUsing the information contained in your knowledge base, which you can access with the 'retriever' tool,\n",
      "give a comprehensive answer to the question below.\n",
      "Respond only to the question asked, response should be concise and relevant to the question.\n",
      "Provide the number of the source document when relevant.\n",
      "If you cannot find information, do not give up and try calling your retriever again with different arguments!\n",
      "\n",
      "Question:\n",
      "What is the dimension of the feature vector for the base BERT model?\n",
      "\u001b[0m\n"
     ]
    },
    {
     "name": "stdout",
     "output_type": "stream",
     "text": [
      "=======================================================\n",
      "Question: What is the title of the paper introducing the ByT5 model?\n",
      "\n",
      "Answer: The title of the paper introducing the ByT5 model is: 'ByT5: Towards a token-free future with pre-trained byte-to-byte models'.\n",
      "True answer: ByT5: Towards a token-free future with pre-trained byte-to-byte models\n"
     ]
    },
    {
     "name": "stderr",
     "output_type": "stream",
     "text": [
      "\u001b[33;1mCalling tool: 'retriever' with arguments: {'query': 'feature vector dimension in base bert model'}\u001b[0m\n",
      "\u001b[33;1mCalling tool: 'final_answer' with arguments: {'answer': 'The dimension of the feature vector for the base BERT model is 768 [source document 0].'}\u001b[0m\n",
      " 57%|█████▋    | 37/65 [08:58<05:12, 11.17s/it]\u001b[33;1m======== New task ========\u001b[0m\n",
      "\u001b[37;1mUsing the information contained in your knowledge base, which you can access with the 'retriever' tool,\n",
      "give a comprehensive answer to the question below.\n",
      "Respond only to the question asked, response should be concise and relevant to the question.\n",
      "Provide the number of the source document when relevant.\n",
      "If you cannot find information, do not give up and try calling your retriever again with different arguments!\n",
      "\n",
      "Question:\n",
      "What special identifier does the WordPiece Model use for continuing subwords?\n",
      "\u001b[0m\n"
     ]
    },
    {
     "name": "stdout",
     "output_type": "stream",
     "text": [
      "=======================================================\n",
      "Question: What is the dimension of the feature vector for the base BERT model?\n",
      "\n",
      "Answer: The dimension of the feature vector for the base BERT model is 768 [source document 0].\n",
      "True answer: 768\n"
     ]
    },
    {
     "name": "stderr",
     "output_type": "stream",
     "text": [
      "\u001b[33;1mCalling tool: 'retriever' with arguments: {'query': 'What special identifier does the WordPiece Model use for continuing subwords?'}\u001b[0m\n",
      "\u001b[33;1mCalling tool: 'final_answer' with arguments: {'answer': \"The special identifier used by the WordPiece Model to indicate continuing subwords is '##'.\"}\u001b[0m\n",
      " 58%|█████▊    | 38/65 [09:05<04:28,  9.95s/it]\u001b[33;1m======== New task ========\u001b[0m\n",
      "\u001b[37;1mUsing the information contained in your knowledge base, which you can access with the 'retriever' tool,\n",
      "give a comprehensive answer to the question below.\n",
      "Respond only to the question asked, response should be concise and relevant to the question.\n",
      "Provide the number of the source document when relevant.\n",
      "If you cannot find information, do not give up and try calling your retriever again with different arguments!\n",
      "\n",
      "Question:\n",
      "What is the purpose of the 🧨 Diffusers tutorials?\n",
      "\u001b[0m\n"
     ]
    },
    {
     "name": "stdout",
     "output_type": "stream",
     "text": [
      "=======================================================\n",
      "Question: What special identifier does the WordPiece Model use for continuing subwords?\n",
      "\n",
      "Answer: The special identifier used by the WordPiece Model to indicate continuing subwords is '##'.\n",
      "True answer: ##\n"
     ]
    },
    {
     "name": "stderr",
     "output_type": "stream",
     "text": [
      "\u001b[33;1mCalling tool: 'retriever' with arguments: {'query': 'Purpose of the Diffusers tutorials'}\u001b[0m\n",
      "\u001b[33;1mCalling tool: 'final_answer' with arguments: {'answer': \"The 🧨 Diffusers tutorials serve as a gentle introduction to diffusion models, with a focus on the core components of the 🧨 Diffusers library. They aim to help beginners understand how to use the library effectively, both for inference and training, with a focus on usability, simplicity, and customizability. The tutorials also emphasize the project's philosophy, which includes values such as accessibility, reproducibility, and responsibility. (Sources: Documents 0, 1, 2, 3, 4, 6)\"}\u001b[0m\n",
      " 60%|██████    | 39/65 [09:14<04:17,  9.90s/it]\u001b[33;1m======== New task ========\u001b[0m\n",
      "\u001b[37;1mUsing the information contained in your knowledge base, which you can access with the 'retriever' tool,\n",
      "give a comprehensive answer to the question below.\n",
      "Respond only to the question asked, response should be concise and relevant to the question.\n",
      "Provide the number of the source document when relevant.\n",
      "If you cannot find information, do not give up and try calling your retriever again with different arguments!\n",
      "\n",
      "Question:\n",
      "What is the default setting for the `allow_flagging` parameter in Gradio's `Interface`?\n",
      "\u001b[0m\n"
     ]
    },
    {
     "name": "stdout",
     "output_type": "stream",
     "text": [
      "=======================================================\n",
      "Question: What is the purpose of the 🧨 Diffusers tutorials?\n",
      "\n",
      "Answer: The 🧨 Diffusers tutorials serve as a gentle introduction to diffusion models, with a focus on the core components of the 🧨 Diffusers library. They aim to help beginners understand how to use the library effectively, both for inference and training, with a focus on usability, simplicity, and customizability. The tutorials also emphasize the project's philosophy, which includes values such as accessibility, reproducibility, and responsibility. (Sources: Documents 0, 1, 2, 3, 4, 6)\n",
      "True answer: To provide a gentle introduction to diffusion models and help understand the library fundamentals.\n"
     ]
    },
    {
     "name": "stderr",
     "output_type": "stream",
     "text": [
      "\u001b[33;1mCalling tool: 'retriever' with arguments: {'query': 'Default allow_flagging parameter Gradio Interface.'}\u001b[0m\n",
      "\u001b[33;1mCalling tool: 'final_answer' with arguments: {'answer': \"The default setting for the `allow_flagging` parameter in Gradio's `Interface` is 'manual'.\"}\u001b[0m\n",
      " 62%|██████▏   | 40/65 [09:21<03:44,  8.97s/it]\u001b[33;1m======== New task ========\u001b[0m\n",
      "\u001b[37;1mUsing the information contained in your knowledge base, which you can access with the 'retriever' tool,\n",
      "give a comprehensive answer to the question below.\n",
      "Respond only to the question asked, response should be concise and relevant to the question.\n",
      "Provide the number of the source document when relevant.\n",
      "If you cannot find information, do not give up and try calling your retriever again with different arguments!\n",
      "\n",
      "Question:\n",
      "Where can the full code for the Stable Diffusion demo be found?\n",
      "\u001b[0m\n"
     ]
    },
    {
     "name": "stdout",
     "output_type": "stream",
     "text": [
      "=======================================================\n",
      "Question: What is the default setting for the `allow_flagging` parameter in Gradio's `Interface`?\n",
      "\n",
      "Answer: The default setting for the `allow_flagging` parameter in Gradio's `Interface` is 'manual'.\n",
      "True answer: \"manual\"\n"
     ]
    },
    {
     "name": "stderr",
     "output_type": "stream",
     "text": [
      "\u001b[33;1mCalling tool: 'retriever' with arguments: {'query': 'stable diffusion demo code'}\u001b[0m\n",
      "\u001b[33;1mCalling tool: 'final_answer' with arguments: {'answer': 'The full code for the Stable Diffusion demo can be found at https://hf.co/spaces/stabilityai/stable-diffusion/tree/main or https://gitlab.com/juliensimon/huggingface-demos/-/tree/main/optimum/stable_diffusion_intel.'}\u001b[0m\n",
      " 63%|██████▎   | 41/65 [09:31<03:39,  9.14s/it]\u001b[33;1m======== New task ========\u001b[0m\n",
      "\u001b[37;1mUsing the information contained in your knowledge base, which you can access with the 'retriever' tool,\n",
      "give a comprehensive answer to the question below.\n",
      "Respond only to the question asked, response should be concise and relevant to the question.\n",
      "Provide the number of the source document when relevant.\n",
      "If you cannot find information, do not give up and try calling your retriever again with different arguments!\n",
      "\n",
      "Question:\n",
      "What transformation does the FNet model use to replace the self-attention layer in a BERT model?\n",
      "\u001b[0m\n"
     ]
    },
    {
     "name": "stdout",
     "output_type": "stream",
     "text": [
      "=======================================================\n",
      "Question: Where can the full code for the Stable Diffusion demo be found?\n",
      "\n",
      "Answer: The full code for the Stable Diffusion demo can be found at https://hf.co/spaces/stabilityai/stable-diffusion/tree/main or https://gitlab.com/juliensimon/huggingface-demos/-/tree/main/optimum/stable_diffusion_intel.\n",
      "True answer: https://hf.co/spaces/stabilityai/stable-diffusion/tree/main\n"
     ]
    },
    {
     "name": "stderr",
     "output_type": "stream",
     "text": [
      "\u001b[33;1mCalling tool: 'retriever' with arguments: {'query': 'What transformation does the FNet model use to replace the self-attention layer in a BERT model?'}\u001b[0m\n",
      "\u001b[33;1mCalling tool: 'final_answer' with arguments: {'answer': 'The FNet model replaces the self-attention layer in a BERT model with a Fourier transform. Specifically, it uses the real parts of the Fourier transform.'}\u001b[0m\n",
      " 65%|██████▍   | 42/65 [09:40<03:30,  9.15s/it]\u001b[33;1m======== New task ========\u001b[0m\n",
      "\u001b[37;1mUsing the information contained in your knowledge base, which you can access with the 'retriever' tool,\n",
      "give a comprehensive answer to the question below.\n",
      "Respond only to the question asked, response should be concise and relevant to the question.\n",
      "Provide the number of the source document when relevant.\n",
      "If you cannot find information, do not give up and try calling your retriever again with different arguments!\n",
      "\n",
      "Question:\n",
      "What type of test should typically accompany a bug fix in Gradio's testing strategy?\n",
      "\u001b[0m\n"
     ]
    },
    {
     "name": "stdout",
     "output_type": "stream",
     "text": [
      "=======================================================\n",
      "Question: What transformation does the FNet model use to replace the self-attention layer in a BERT model?\n",
      "\n",
      "Answer: The FNet model replaces the self-attention layer in a BERT model with a Fourier transform. Specifically, it uses the real parts of the Fourier transform.\n",
      "True answer: Fourier transform\n"
     ]
    },
    {
     "name": "stderr",
     "output_type": "stream",
     "text": [
      "\u001b[33;1mCalling tool: 'retriever' with arguments: {'query': \"What type of test should typically accompany a bug fix in Gradio's testing strategy?\"}\u001b[0m\n",
      "\u001b[33;1mCalling tool: 'final_answer' with arguments: {'answer': \"A dynamic code test should typically accompany a bug fix in Gradio's testing strategy (as mentioned in documents 0 and 1).\"}\u001b[0m\n",
      " 66%|██████▌   | 43/65 [09:56<04:06, 11.20s/it]\u001b[33;1m======== New task ========\u001b[0m\n",
      "\u001b[37;1mUsing the information contained in your knowledge base, which you can access with the 'retriever' tool,\n",
      "give a comprehensive answer to the question below.\n",
      "Respond only to the question asked, response should be concise and relevant to the question.\n",
      "Provide the number of the source document when relevant.\n",
      "If you cannot find information, do not give up and try calling your retriever again with different arguments!\n",
      "\n",
      "Question:\n",
      "How can you force mixed precision training when initializing the Accelerator in 🤗 Accelerate?\n",
      "\u001b[0m\n"
     ]
    },
    {
     "name": "stdout",
     "output_type": "stream",
     "text": [
      "=======================================================\n",
      "Question: What type of test should typically accompany a bug fix in Gradio's testing strategy?\n",
      "\n",
      "Answer: A dynamic code test should typically accompany a bug fix in Gradio's testing strategy (as mentioned in documents 0 and 1).\n",
      "True answer: Dynamic code test\n"
     ]
    },
    {
     "name": "stderr",
     "output_type": "stream",
     "text": [
      "\u001b[33;1mCalling tool: 'retriever' with arguments: {'query': 'How can you force mixed precision training when initializing the Accelerator in Accelerate?'}\u001b[0m\n",
      "\u001b[33;1mCalling tool: 'retriever' with arguments: {'query': 'How to force mixed precision training with accelerate library'}\u001b[0m\n",
      "\u001b[33;1mCalling tool: 'final_answer' with arguments: {'answer': 'You can force mixed precision training when initializing the Accelerator in 🤗 Accelerate by using the `--fp16` flag when running your scripts. This enables mixed precision training for GPUs with Pascal architecture or newer, providing faster training speeds with the same final results.'}\u001b[0m\n",
      " 68%|██████▊   | 44/65 [10:22<05:25, 15.51s/it]\u001b[33;1m======== New task ========\u001b[0m\n",
      "\u001b[37;1mUsing the information contained in your knowledge base, which you can access with the 'retriever' tool,\n",
      "give a comprehensive answer to the question below.\n",
      "Respond only to the question asked, response should be concise and relevant to the question.\n",
      "Provide the number of the source document when relevant.\n",
      "If you cannot find information, do not give up and try calling your retriever again with different arguments!\n",
      "\n",
      "Question:\n",
      "What is the purpose of tokenizers in the NLP pipeline?\n",
      "\u001b[0m\n"
     ]
    },
    {
     "name": "stdout",
     "output_type": "stream",
     "text": [
      "=======================================================\n",
      "Question: How can you force mixed precision training when initializing the Accelerator in 🤗 Accelerate?\n",
      "\n",
      "Answer: You can force mixed precision training when initializing the Accelerator in 🤗 Accelerate by using the `--fp16` flag when running your scripts. This enables mixed precision training for GPUs with Pascal architecture or newer, providing faster training speeds with the same final results.\n",
      "True answer: By passing `fp16=True` to the Accelerator init.\n"
     ]
    },
    {
     "name": "stderr",
     "output_type": "stream",
     "text": [
      "\u001b[33;1mCalling tool: 'retriever' with arguments: {'query': 'purpose of tokenizers in NLP pipeline'}\u001b[0m\n",
      "\u001b[33;1mCalling tool: 'final_answer' with arguments: {'answer': 'Tokenizers are a crucial component of the NLP pipeline, responsible for converting raw text data into numerical data that can be processed by machine learning models. They serve as a bridge between text inputs and the numerical format required by models. Tokenizers also keep track of spans of text corresponding to each word and token, facilitating tasks like masked language modeling and token classification. They offer features like vocabulary training, normalization, truncation, padding, and addition of special tokens.'}\u001b[0m\n",
      " 69%|██████▉   | 45/65 [10:37<05:12, 15.63s/it]\u001b[33;1m======== New task ========\u001b[0m\n",
      "\u001b[37;1mUsing the information contained in your knowledge base, which you can access with the 'retriever' tool,\n",
      "give a comprehensive answer to the question below.\n",
      "Respond only to the question asked, response should be concise and relevant to the question.\n",
      "Provide the number of the source document when relevant.\n",
      "If you cannot find information, do not give up and try calling your retriever again with different arguments!\n",
      "\n",
      "Question:\n",
      "What is the purpose of the Safety Checker in the Diffusers library?\n",
      "\u001b[0m\n"
     ]
    },
    {
     "name": "stdout",
     "output_type": "stream",
     "text": [
      "=======================================================\n",
      "Question: What is the purpose of tokenizers in the NLP pipeline?\n",
      "\n",
      "Answer: Tokenizers are a crucial component of the NLP pipeline, responsible for converting raw text data into numerical data that can be processed by machine learning models. They serve as a bridge between text inputs and the numerical format required by models. Tokenizers also keep track of spans of text corresponding to each word and token, facilitating tasks like masked language modeling and token classification. They offer features like vocabulary training, normalization, truncation, padding, and addition of special tokens.\n",
      "True answer: To translate text into data that can be processed by the model.\n"
     ]
    },
    {
     "name": "stderr",
     "output_type": "stream",
     "text": [
      "\u001b[33;1mCalling tool: 'retriever' with arguments: {'query': 'What is the purpose of the Safety Checker in the Diffusers library?'}\u001b[0m\n",
      "\u001b[33;1mCalling tool: 'final_answer' with arguments: {'answer': 'The purpose of the Safety Checker in the Diffusers library is to flag and prevent inappropriate and harmful content generated during inference. It is a mandatory component for public-facing applications to ensure responsible usage and to avoid exposing unfiltered results to the public. The Safety Checker uses a set of hard-coded harmful concepts in the embedding space to compare and identify inappropriate content. This component can be disabled, but it is strongly recommended to keep it enabled unless for specific use cases like analyzing network behavior.'}\u001b[0m\n",
      " 71%|███████   | 46/65 [10:50<04:40, 14.76s/it]\u001b[33;1m======== New task ========\u001b[0m\n",
      "\u001b[37;1mUsing the information contained in your knowledge base, which you can access with the 'retriever' tool,\n",
      "give a comprehensive answer to the question below.\n",
      "Respond only to the question asked, response should be concise and relevant to the question.\n",
      "Provide the number of the source document when relevant.\n",
      "If you cannot find information, do not give up and try calling your retriever again with different arguments!\n",
      "\n",
      "Question:\n",
      "What Python class allows you to retrieve Discussions and Pull Requests from a given repository on the Hugging Face Hub?\n",
      "\u001b[0m\n"
     ]
    },
    {
     "name": "stdout",
     "output_type": "stream",
     "text": [
      "=======================================================\n",
      "Question: What is the purpose of the Safety Checker in the Diffusers library?\n",
      "\n",
      "Answer: The purpose of the Safety Checker in the Diffusers library is to flag and prevent inappropriate and harmful content generated during inference. It is a mandatory component for public-facing applications to ensure responsible usage and to avoid exposing unfiltered results to the public. The Safety Checker uses a set of hard-coded harmful concepts in the embedding space to compare and identify inappropriate content. This component can be disabled, but it is strongly recommended to keep it enabled unless for specific use cases like analyzing network behavior.\n",
      "True answer: The Safety Checker checks and compares the class probability of a set of hard-coded harmful concepts in the embedding space against an image after it has been generated to mitigate the risk of generating harmful content.\n"
     ]
    },
    {
     "name": "stderr",
     "output_type": "stream",
     "text": [
      "\u001b[33;1mCalling tool: 'retriever' with arguments: {'query': 'Python class retrieve Discussions and Pull Requests from repository Hugging Face Hub'}\u001b[0m\n",
      "\u001b[33;1mCalling tool: 'final_answer' with arguments: {'answer': 'The `HfApi` class allows you to retrieve Discussions and Pull Requests on a given repository (ref: Document 0).'}\u001b[0m\n",
      " 72%|███████▏  | 47/65 [11:00<04:00, 13.37s/it]\u001b[33;1m======== New task ========\u001b[0m\n",
      "\u001b[37;1mUsing the information contained in your knowledge base, which you can access with the 'retriever' tool,\n",
      "give a comprehensive answer to the question below.\n",
      "Respond only to the question asked, response should be concise and relevant to the question.\n",
      "Provide the number of the source document when relevant.\n",
      "If you cannot find information, do not give up and try calling your retriever again with different arguments!\n",
      "\n",
      "Question:\n",
      "What is the name of the new library introduced by Hugging Face for hosting scikit-learn models?\n",
      "\u001b[0m\n"
     ]
    },
    {
     "name": "stdout",
     "output_type": "stream",
     "text": [
      "=======================================================\n",
      "Question: What Python class allows you to retrieve Discussions and Pull Requests from a given repository on the Hugging Face Hub?\n",
      "\n",
      "Answer: The `HfApi` class allows you to retrieve Discussions and Pull Requests on a given repository (ref: Document 0).\n",
      "True answer: HfApi\n"
     ]
    },
    {
     "name": "stderr",
     "output_type": "stream",
     "text": [
      "\u001b[33;1mCalling tool: 'retriever' with arguments: {'query': 'Hugging Face new library for hosting scikit-learn models'}\u001b[0m\n",
      "\u001b[33;1mCalling tool: 'final_answer' with arguments: {'answer': 'The name of the new library introduced by Hugging Face for hosting scikit-learn models is Skops.'}\u001b[0m\n",
      " 74%|███████▍  | 48/65 [11:23<04:35, 16.21s/it]\u001b[33;1m======== New task ========\u001b[0m\n",
      "\u001b[37;1mUsing the information contained in your knowledge base, which you can access with the 'retriever' tool,\n",
      "give a comprehensive answer to the question below.\n",
      "Respond only to the question asked, response should be concise and relevant to the question.\n",
      "Provide the number of the source document when relevant.\n",
      "If you cannot find information, do not give up and try calling your retriever again with different arguments!\n",
      "\n",
      "Question:\n",
      "What is the purpose of Textual Inversion?\n",
      "\u001b[0m\n"
     ]
    },
    {
     "name": "stdout",
     "output_type": "stream",
     "text": [
      "=======================================================\n",
      "Question: What is the name of the new library introduced by Hugging Face for hosting scikit-learn models?\n",
      "\n",
      "Answer: The name of the new library introduced by Hugging Face for hosting scikit-learn models is Skops.\n",
      "True answer: Skops\n"
     ]
    },
    {
     "name": "stderr",
     "output_type": "stream",
     "text": [
      "\u001b[33;1mCalling tool: 'retriever' with arguments: {'query': 'What is the purpose of Textual Inversion?'}\u001b[0m\n",
      "\u001b[33;1mCalling tool: 'final_answer' with arguments: {'answer': 'Textual Inversion is a training technique for personalising image generation models, allowing them to learn and update text embeddings to match example images provided. This method, detailed in [this paper](https://hf.co/papers/2208.01618), requires just a few example images to teach a model new concepts and tailor it towards specific ideas.'}\u001b[0m\n",
      " 75%|███████▌  | 49/65 [11:40<04:24, 16.54s/it]\u001b[33;1m======== New task ========\u001b[0m\n",
      "\u001b[37;1mUsing the information contained in your knowledge base, which you can access with the 'retriever' tool,\n",
      "give a comprehensive answer to the question below.\n",
      "Respond only to the question asked, response should be concise and relevant to the question.\n",
      "Provide the number of the source document when relevant.\n",
      "If you cannot find information, do not give up and try calling your retriever again with different arguments!\n",
      "\n",
      "Question:\n",
      "What is the recommended multiple of batch size for fp16 data type on an A100 GPU?\n",
      "\u001b[0m\n"
     ]
    },
    {
     "name": "stdout",
     "output_type": "stream",
     "text": [
      "=======================================================\n",
      "Question: What is the purpose of Textual Inversion?\n",
      "\n",
      "Answer: Textual Inversion is a training technique for personalising image generation models, allowing them to learn and update text embeddings to match example images provided. This method, detailed in [this paper](https://hf.co/papers/2208.01618), requires just a few example images to teach a model new concepts and tailor it towards specific ideas.\n",
      "True answer: Textual Inversion is a training method for personalizing models by learning new text embeddings from a few example images.\n"
     ]
    },
    {
     "name": "stderr",
     "output_type": "stream",
     "text": [
      "\u001b[33;1mCalling tool: 'retriever' with arguments: {'query': 'What is the recommended multiple of batch size for fp16 data type on an A100 GPU?'}\u001b[0m\n",
      "\u001b[33;1mCalling tool: 'retriever' with arguments: {'query': \"Document containing 'fp16', 'A100 GPU', 'batch size' and '4'\"}\u001b[0m\n",
      "\u001b[33;1mCalling tool: 'final_answer' with arguments: {'answer': 'Based on the retrieved documents, it seems that a batch size of 4 is recommended for fp16 data type on an A100 GPU. This information was found in Document 6.'}\u001b[0m\n",
      " 77%|███████▋  | 50/65 [12:06<04:49, 19.31s/it]\u001b[33;1m======== New task ========\u001b[0m\n",
      "\u001b[37;1mUsing the information contained in your knowledge base, which you can access with the 'retriever' tool,\n",
      "give a comprehensive answer to the question below.\n",
      "Respond only to the question asked, response should be concise and relevant to the question.\n",
      "Provide the number of the source document when relevant.\n",
      "If you cannot find information, do not give up and try calling your retriever again with different arguments!\n",
      "\n",
      "Question:\n",
      "How do you run a Gradio Blocks app in reload mode using a Python IDE?\n",
      "\u001b[0m\n"
     ]
    },
    {
     "name": "stdout",
     "output_type": "stream",
     "text": [
      "=======================================================\n",
      "Question: What is the recommended multiple of batch size for fp16 data type on an A100 GPU?\n",
      "\n",
      "Answer: Based on the retrieved documents, it seems that a batch size of 4 is recommended for fp16 data type on an A100 GPU. This information was found in Document 6.\n",
      "True answer: 64\n"
     ]
    },
    {
     "name": "stderr",
     "output_type": "stream",
     "text": [
      "\u001b[33;1mCalling tool: 'retriever' with arguments: {'query': 'How to run a Gradio Blocks app in reload mode using a Python IDE?'}\u001b[0m\n",
      "\u001b[33;1mCalling tool: 'final_answer' with arguments: {'answer': 'To run a Gradio Blocks app in reload mode using a Python IDE, you can use the `gradio` command followed by the name of your Python script file, for example: `gradio app.py`. This will launch the app in reload mode, automatically reloading whenever you make changes to the file. The app will be accessible at http://127.0.0.1:7860 by default.'}\u001b[0m\n",
      " 78%|███████▊  | 51/65 [12:21<04:11, 17.94s/it]\u001b[33;1m======== New task ========\u001b[0m\n",
      "\u001b[37;1mUsing the information contained in your knowledge base, which you can access with the 'retriever' tool,\n",
      "give a comprehensive answer to the question below.\n",
      "Respond only to the question asked, response should be concise and relevant to the question.\n",
      "Provide the number of the source document when relevant.\n",
      "If you cannot find information, do not give up and try calling your retriever again with different arguments!\n",
      "\n",
      "Question:\n",
      "How can you install the Hugging Face Unity API in your Unity project?\n",
      "\u001b[0m\n"
     ]
    },
    {
     "name": "stdout",
     "output_type": "stream",
     "text": [
      "=======================================================\n",
      "Question: How do you run a Gradio Blocks app in reload mode using a Python IDE?\n",
      "\n",
      "Answer: To run a Gradio Blocks app in reload mode using a Python IDE, you can use the `gradio` command followed by the name of your Python script file, for example: `gradio app.py`. This will launch the app in reload mode, automatically reloading whenever you make changes to the file. The app will be accessible at http://127.0.0.1:7860 by default.\n",
      "True answer: Run `gradio run.py` in the terminal.\n"
     ]
    },
    {
     "name": "stderr",
     "output_type": "stream",
     "text": [
      "\u001b[33;1mCalling tool: 'retriever' with arguments: {'query': 'How to install Hugging Face Unity API in Unity project'}\u001b[0m\n",
      "\u001b[33;1mCalling tool: 'final_answer' with arguments: {'answer': \"To install the Hugging Face Unity API in your Unity project, follow these steps: \\n1. Open your Unity project.\\n2. Go to 'Window' -> 'Package Manager'.\\n3. Click '+' and select 'Add Package from git URL'.\\n4. Enter the URL: 'https://github.com/huggingface/unity-api.git'.\\n5. Once installed, the Unity API wizard should appear. If not, go to 'Window' -> 'Hugging Face API Wizard'.\\n6. Enter your API key, which can be created in your Hugging Face account settings.\\n7. Test the API key using the 'Test API key' option in the wizard.\\n8. Optionally, change the model endpoints to select a different model to use.\\n9. Configure any advanced settings as desired.\\n10. Install examples to see how to use the API.\"}\u001b[0m\n",
      " 80%|████████  | 52/65 [12:36<03:42, 17.14s/it]\u001b[33;1m======== New task ========\u001b[0m\n",
      "\u001b[37;1mUsing the information contained in your knowledge base, which you can access with the 'retriever' tool,\n",
      "give a comprehensive answer to the question below.\n",
      "Respond only to the question asked, response should be concise and relevant to the question.\n",
      "Provide the number of the source document when relevant.\n",
      "If you cannot find information, do not give up and try calling your retriever again with different arguments!\n",
      "\n",
      "Question:\n",
      "What is the pretraining objective of the Wav2Vec2 context network?\n",
      "\u001b[0m\n"
     ]
    },
    {
     "name": "stdout",
     "output_type": "stream",
     "text": [
      "=======================================================\n",
      "Question: How can you install the Hugging Face Unity API in your Unity project?\n",
      "\n",
      "Answer: To install the Hugging Face Unity API in your Unity project, follow these steps: \n",
      "1. Open your Unity project.\n",
      "2. Go to 'Window' -> 'Package Manager'.\n",
      "3. Click '+' and select 'Add Package from git URL'.\n",
      "4. Enter the URL: 'https://github.com/huggingface/unity-api.git'.\n",
      "5. Once installed, the Unity API wizard should appear. If not, go to 'Window' -> 'Hugging Face API Wizard'.\n",
      "6. Enter your API key, which can be created in your Hugging Face account settings.\n",
      "7. Test the API key using the 'Test API key' option in the wizard.\n",
      "8. Optionally, change the model endpoints to select a different model to use.\n",
      "9. Configure any advanced settings as desired.\n",
      "10. Install examples to see how to use the API.\n",
      "True answer: To install the Hugging Face Unity API in your Unity project, go to `Window` -> `Package Manager`, click `+` and select `Add Package from git URL`, then enter `https://github.com/huggingface/unity-api.git`.\n"
     ]
    },
    {
     "name": "stderr",
     "output_type": "stream",
     "text": [
      "\u001b[33;1mCalling tool: 'retriever' with arguments: {'query': 'What is the pretraining objective of the Wav2Vec2 context network?'}\u001b[0m\n",
      "\u001b[33;1mCalling tool: 'final_answer' with arguments: {'answer': 'The pretraining objective of the Wav2Vec2 context network is a contrastive task. The model predicts a true quantized speech representation, from a set of false ones, using masked prediction. By doing so, the model finds the most similar context vector, and the quantized speech unit is the target label.'}\u001b[0m\n",
      " 82%|████████▏ | 53/65 [12:48<03:06, 15.51s/it]\u001b[33;1m======== New task ========\u001b[0m\n",
      "\u001b[37;1mUsing the information contained in your knowledge base, which you can access with the 'retriever' tool,\n",
      "give a comprehensive answer to the question below.\n",
      "Respond only to the question asked, response should be concise and relevant to the question.\n",
      "Provide the number of the source document when relevant.\n",
      "If you cannot find information, do not give up and try calling your retriever again with different arguments!\n",
      "\n",
      "Question:\n",
      "What is the default checkpoint used by the sentiment analysis pipeline in the Transformers library?\n",
      "\u001b[0m\n"
     ]
    },
    {
     "name": "stdout",
     "output_type": "stream",
     "text": [
      "=======================================================\n",
      "Question: What is the pretraining objective of the Wav2Vec2 context network?\n",
      "\n",
      "Answer: The pretraining objective of the Wav2Vec2 context network is a contrastive task. The model predicts a true quantized speech representation, from a set of false ones, using masked prediction. By doing so, the model finds the most similar context vector, and the quantized speech unit is the target label.\n",
      "True answer: The pretraining objective of the Wav2Vec2 context network is a contrastive task where the model has to predict the true quantized speech representation of the masked prediction from a set of false ones.\n"
     ]
    },
    {
     "name": "stderr",
     "output_type": "stream",
     "text": [
      "\u001b[33;1mCalling tool: 'retriever' with arguments: {'query': 'Default checkpoint for sentiment analysis pipeline in Transformers library'}\u001b[0m\n",
      "\u001b[33;1mCalling tool: 'final_answer' with arguments: {'answer': \"The default checkpoint used by the sentiment analysis pipeline in the Transformers library is 'distilbert-base-uncased-finetuned-sst-2-english' (source document: 0).\"}\u001b[0m\n",
      " 83%|████████▎ | 54/65 [13:02<02:45, 15.08s/it]\u001b[33;1m======== New task ========\u001b[0m\n",
      "\u001b[37;1mUsing the information contained in your knowledge base, which you can access with the 'retriever' tool,\n",
      "give a comprehensive answer to the question below.\n",
      "Respond only to the question asked, response should be concise and relevant to the question.\n",
      "Provide the number of the source document when relevant.\n",
      "If you cannot find information, do not give up and try calling your retriever again with different arguments!\n",
      "\n",
      "Question:\n",
      "What is the purpose of the notebook \"How to use DeepSpeed to train models with billions of parameters on Habana Gaudi\"?\n",
      "\u001b[0m\n"
     ]
    },
    {
     "name": "stdout",
     "output_type": "stream",
     "text": [
      "=======================================================\n",
      "Question: What is the default checkpoint used by the sentiment analysis pipeline in the Transformers library?\n",
      "\n",
      "Answer: The default checkpoint used by the sentiment analysis pipeline in the Transformers library is 'distilbert-base-uncased-finetuned-sst-2-english' (source document: 0).\n",
      "True answer: distilbert base uncased finetuned sst2 english\n"
     ]
    },
    {
     "name": "stderr",
     "output_type": "stream",
     "text": [
      "\u001b[33;1mCalling tool: 'retriever' with arguments: {'query': \"What is the purpose of the notebook 'How to use DeepSpeed to train models with billions of parameters on Habana Gaudi'?\"}\u001b[0m\n",
      "\u001b[33;1mCalling tool: 'final_answer' with arguments: {'answer': \"The purpose of the notebook is to show how to use DeepSpeed to pre-train and fine-tune the 1.6 billion parameter GPT2-XL model for causal language modeling on Habana Gaudi. This is demonstrated using a specific notebook titled 'How to use DeepSpeed to train models with billions of parameters on Habana Gaudi'.\"}\u001b[0m\n",
      " 85%|████████▍ | 55/65 [13:18<02:34, 15.48s/it]\u001b[33;1m======== New task ========\u001b[0m\n",
      "\u001b[37;1mUsing the information contained in your knowledge base, which you can access with the 'retriever' tool,\n",
      "give a comprehensive answer to the question below.\n",
      "Respond only to the question asked, response should be concise and relevant to the question.\n",
      "Provide the number of the source document when relevant.\n",
      "If you cannot find information, do not give up and try calling your retriever again with different arguments!\n",
      "\n",
      "Question:\n",
      "What command line module does PyTorch provide to run a script on multiple GPUs?\n",
      "\u001b[0m\n"
     ]
    },
    {
     "name": "stdout",
     "output_type": "stream",
     "text": [
      "=======================================================\n",
      "Question: What is the purpose of the notebook \"How to use DeepSpeed to train models with billions of parameters on Habana Gaudi\"?\n",
      "\n",
      "Answer: The purpose of the notebook is to show how to use DeepSpeed to pre-train and fine-tune the 1.6 billion parameter GPT2-XL model for causal language modeling on Habana Gaudi. This is demonstrated using a specific notebook titled 'How to use DeepSpeed to train models with billions of parameters on Habana Gaudi'.\n",
      "True answer: To show how to use DeepSpeed to pre-train/fine-tune the 1.6B-parameter GPT2-XL for causal language modeling on Habana Gaudi.\n"
     ]
    },
    {
     "name": "stderr",
     "output_type": "stream",
     "text": [
      "\u001b[33;1mCalling tool: 'retriever' with arguments: {'query': 'PyTorch command line module to run a script on multiple GPUs'}\u001b[0m\n",
      "\u001b[33;1mCalling tool: 'retriever' with arguments: {'query': 'How many nodes can you use with torchrun?'}\u001b[0m\n",
      "\u001b[33;1mCalling tool: 'final_answer' with arguments: {'answer': 'PyTorch provides the command-line module `torchrun` to run a script on multiple GPUs. You can specify the number of GPUs using the argument `--nproc_per_node=integer`.'}\u001b[0m\n",
      " 86%|████████▌ | 56/65 [13:35<02:21, 15.74s/it]\u001b[33;1m======== New task ========\u001b[0m\n",
      "\u001b[37;1mUsing the information contained in your knowledge base, which you can access with the 'retriever' tool,\n",
      "give a comprehensive answer to the question below.\n",
      "Respond only to the question asked, response should be concise and relevant to the question.\n",
      "Provide the number of the source document when relevant.\n",
      "If you cannot find information, do not give up and try calling your retriever again with different arguments!\n",
      "\n",
      "Question:\n",
      "What is the most popular vision transformer model on the Hugging Face Model Hub for image classification?\n",
      "\u001b[0m\n"
     ]
    },
    {
     "name": "stdout",
     "output_type": "stream",
     "text": [
      "=======================================================\n",
      "Question: What command line module does PyTorch provide to run a script on multiple GPUs?\n",
      "\n",
      "Answer: PyTorch provides the command-line module `torchrun` to run a script on multiple GPUs. You can specify the number of GPUs using the argument `--nproc_per_node=integer`.\n",
      "True answer: torchrun\n"
     ]
    },
    {
     "name": "stderr",
     "output_type": "stream",
     "text": [
      "\u001b[33;1mCalling tool: 'retriever' with arguments: {'query': 'Most popular vision transformer models on Hugging Face model hub'}\u001b[0m\n",
      "\u001b[33;1mCalling tool: 'retriever' with arguments: {'query': 'vision transformer model image classification'}\u001b[0m\n",
      "\u001b[33;1mCalling tool: 'final_answer' with arguments: {'answer': 'The most popular vision transformer model on the Hugging Face Model Hub for image classification is `google/vit-base-patch16-224`.'}\u001b[0m\n",
      " 88%|████████▊ | 57/65 [13:52<02:10, 16.30s/it]\u001b[33;1m======== New task ========\u001b[0m\n",
      "\u001b[37;1mUsing the information contained in your knowledge base, which you can access with the 'retriever' tool,\n",
      "give a comprehensive answer to the question below.\n",
      "Respond only to the question asked, response should be concise and relevant to the question.\n",
      "Provide the number of the source document when relevant.\n",
      "If you cannot find information, do not give up and try calling your retriever again with different arguments!\n",
      "\n",
      "Question:\n",
      "What is the command to upload an ESPnet model to a Hugging Face repository?\n",
      "\u001b[0m\n"
     ]
    },
    {
     "name": "stdout",
     "output_type": "stream",
     "text": [
      "=======================================================\n",
      "Question: What is the most popular vision transformer model on the Hugging Face Model Hub for image classification?\n",
      "\n",
      "Answer: The most popular vision transformer model on the Hugging Face Model Hub for image classification is `google/vit-base-patch16-224`.\n",
      "True answer: google/vit-base-patch16-224\n"
     ]
    },
    {
     "name": "stderr",
     "output_type": "stream",
     "text": [
      "\u001b[33;1mCalling tool: 'retriever' with arguments: {'query': 'How to upload an ESPnet model to a Hugging Face repository?'}\u001b[0m\n",
      "\u001b[33;1mCalling tool: 'final_answer' with arguments: {'answer': 'To upload an ESPnet model to a Hugging Face repository, ensure you have an account and are logged in. Then, use the `run.sh` script with the appropriate arguments, specifying the stage, whether to skip the upload, and the name of your repository. Here is an example command: \\nbash\\n./run.sh --stage 15 --skip_upload_hf false --hf_repo username/model_repo\\n \\nAlternatively, you can use the Hugging Face CLI with the `push_to_hub` argument, specifying the model directory and repository name.'}\u001b[0m\n",
      " 89%|████████▉ | 58/65 [14:12<02:00, 17.20s/it]\u001b[33;1m======== New task ========\u001b[0m\n",
      "\u001b[37;1mUsing the information contained in your knowledge base, which you can access with the 'retriever' tool,\n",
      "give a comprehensive answer to the question below.\n",
      "Respond only to the question asked, response should be concise and relevant to the question.\n",
      "Provide the number of the source document when relevant.\n",
      "If you cannot find information, do not give up and try calling your retriever again with different arguments!\n",
      "\n",
      "Question:\n",
      "What file should be added to a model repository to install custom Python dependencies for Inference Endpoints?\n",
      "\u001b[0m\n"
     ]
    },
    {
     "name": "stdout",
     "output_type": "stream",
     "text": [
      "=======================================================\n",
      "Question: What is the command to upload an ESPnet model to a Hugging Face repository?\n",
      "\n",
      "Answer: To upload an ESPnet model to a Hugging Face repository, ensure you have an account and are logged in. Then, use the `run.sh` script with the appropriate arguments, specifying the stage, whether to skip the upload, and the name of your repository. Here is an example command: \n",
      "bash\n",
      "./run.sh --stage 15 --skip_upload_hf false --hf_repo username/model_repo\n",
      " \n",
      "Alternatively, you can use the Hugging Face CLI with the `push_to_hub` argument, specifying the model directory and repository name.\n",
      "True answer: ./run.sh --stage 15 --skip_upload_hf false --hf_repo username/model_repo\n"
     ]
    },
    {
     "name": "stderr",
     "output_type": "stream",
     "text": [
      "\u001b[33;1mCalling tool: 'retriever' with arguments: {'query': 'What file should be added to a model repository to install custom Python dependencies for Inference Endpoints?'}\u001b[0m\n",
      "\u001b[33;1mCalling tool: 'final_answer' with arguments: {'answer': 'A `requirements.txt` file should be added to a model repository to install custom Python dependencies for Inference Endpoints.'}\u001b[0m\n",
      " 91%|█████████ | 59/65 [14:25<01:36, 16.11s/it]\u001b[33;1m======== New task ========\u001b[0m\n",
      "\u001b[37;1mUsing the information contained in your knowledge base, which you can access with the 'retriever' tool,\n",
      "give a comprehensive answer to the question below.\n",
      "Respond only to the question asked, response should be concise and relevant to the question.\n",
      "Provide the number of the source document when relevant.\n",
      "If you cannot find information, do not give up and try calling your retriever again with different arguments!\n",
      "\n",
      "Question:\n",
      "How many images are needed to teach new concepts to Stable Diffusion using Textual Inversion?\n",
      "\u001b[0m\n"
     ]
    },
    {
     "name": "stdout",
     "output_type": "stream",
     "text": [
      "=======================================================\n",
      "Question: What file should be added to a model repository to install custom Python dependencies for Inference Endpoints?\n",
      "\n",
      "Answer: A `requirements.txt` file should be added to a model repository to install custom Python dependencies for Inference Endpoints.\n",
      "True answer: requirements.txt\n"
     ]
    },
    {
     "name": "stderr",
     "output_type": "stream",
     "text": [
      "\u001b[33;1mCalling tool: 'retriever' with arguments: {'query': 'How many images are needed to teach new concepts to Stable Diffusion using Textual Inversion?'}\u001b[0m\n",
      "\u001b[33;1mCalling tool: 'final_answer' with arguments: {'answer': 'Between 3 and 5 images are needed to teach new concepts to Stable Diffusion using Textual Inversion.'}\u001b[0m\n",
      " 92%|█████████▏| 60/65 [14:41<01:19, 15.99s/it]\u001b[33;1m======== New task ========\u001b[0m\n",
      "\u001b[37;1mUsing the information contained in your knowledge base, which you can access with the 'retriever' tool,\n",
      "give a comprehensive answer to the question below.\n",
      "Respond only to the question asked, response should be concise and relevant to the question.\n",
      "Provide the number of the source document when relevant.\n",
      "If you cannot find information, do not give up and try calling your retriever again with different arguments!\n",
      "\n",
      "Question:\n",
      "What is the maximum size of a model checkpoint before it is automatically sharded in Transformers version 4.18.0?\n",
      "\u001b[0m\n"
     ]
    },
    {
     "name": "stdout",
     "output_type": "stream",
     "text": [
      "=======================================================\n",
      "Question: How many images are needed to teach new concepts to Stable Diffusion using Textual Inversion?\n",
      "\n",
      "Answer: Between 3 and 5 images are needed to teach new concepts to Stable Diffusion using Textual Inversion.\n",
      "True answer: 3-5 images\n"
     ]
    },
    {
     "name": "stderr",
     "output_type": "stream",
     "text": [
      "\u001b[33;1mCalling tool: 'retriever' with arguments: {'query': 'Transformers version 4.18.0 model checkpoint automatic sharding'}\u001b[0m\n",
      "\u001b[33;1mCalling tool: 'final_answer' with arguments: {'answer': 'In Transformers version 4.18.0, model checkpoints larger than 10GB are automatically sharded. [Source Document 0]'}\u001b[0m\n",
      " 94%|█████████▍| 61/65 [14:51<00:56, 14.07s/it]\u001b[33;1m======== New task ========\u001b[0m\n",
      "\u001b[37;1mUsing the information contained in your knowledge base, which you can access with the 'retriever' tool,\n",
      "give a comprehensive answer to the question below.\n",
      "Respond only to the question asked, response should be concise and relevant to the question.\n",
      "Provide the number of the source document when relevant.\n",
      "If you cannot find information, do not give up and try calling your retriever again with different arguments!\n",
      "\n",
      "Question:\n",
      "What is the purpose of Weights and Biases (W&B) for data scientists and machine learning scientists?\n",
      "\u001b[0m\n"
     ]
    },
    {
     "name": "stdout",
     "output_type": "stream",
     "text": [
      "=======================================================\n",
      "Question: What is the maximum size of a model checkpoint before it is automatically sharded in Transformers version 4.18.0?\n",
      "\n",
      "Answer: In Transformers version 4.18.0, model checkpoints larger than 10GB are automatically sharded. [Source Document 0]\n",
      "True answer: 10GB\n"
     ]
    },
    {
     "name": "stderr",
     "output_type": "stream",
     "text": [
      "\u001b[33;1mCalling tool: 'retriever' with arguments: {'query': 'What is the purpose of Weights and Biases (W&B) for data scientists and machine learning scientists?'}\u001b[0m\n",
      "\u001b[33;1mCalling tool: 'final_answer' with arguments: {'answer': 'Weights and Biases (W&B) is a tool that allows data scientists and machine learning scientists to track their experiments at every stage, from training to production. It provides a customisable dashboard to visualise metrics and samples, helping users to optimise their machine learning workflows.'}\u001b[0m\n",
      " 95%|█████████▌| 62/65 [15:04<00:41, 13.97s/it]\u001b[33;1m======== New task ========\u001b[0m\n",
      "\u001b[37;1mUsing the information contained in your knowledge base, which you can access with the 'retriever' tool,\n",
      "give a comprehensive answer to the question below.\n",
      "Respond only to the question asked, response should be concise and relevant to the question.\n",
      "Provide the number of the source document when relevant.\n",
      "If you cannot find information, do not give up and try calling your retriever again with different arguments!\n",
      "\n",
      "Question:\n",
      "What is the name of the open-source library created by Hugging Face to simplify Transformer acceleration?\n",
      "\u001b[0m\n"
     ]
    },
    {
     "name": "stdout",
     "output_type": "stream",
     "text": [
      "=======================================================\n",
      "Question: What is the purpose of Weights and Biases (W&B) for data scientists and machine learning scientists?\n",
      "\n",
      "Answer: Weights and Biases (W&B) is a tool that allows data scientists and machine learning scientists to track their experiments at every stage, from training to production. It provides a customisable dashboard to visualise metrics and samples, helping users to optimise their machine learning workflows.\n",
      "True answer: To track their machine learning experiments at every stage, from training to production.\n"
     ]
    },
    {
     "name": "stderr",
     "output_type": "stream",
     "text": [
      "\u001b[33;1mCalling tool: 'retriever' with arguments: {'query': 'Hugging Face open-source library Transformer acceleration'}\u001b[0m\n",
      "\u001b[33;1mCalling tool: 'final_answer' with arguments: {'answer': \"The name of the open-source library created by Hugging Face to simplify Transformer acceleration is Optimum (also referred to as '🤗 Optimum' and 'Optimum Intel'). This information is derived from multiple documents in the knowledge base.\"}\u001b[0m\n",
      " 97%|█████████▋| 63/65 [15:12<00:24, 12.18s/it]\u001b[33;1m======== New task ========\u001b[0m\n",
      "\u001b[37;1mUsing the information contained in your knowledge base, which you can access with the 'retriever' tool,\n",
      "give a comprehensive answer to the question below.\n",
      "Respond only to the question asked, response should be concise and relevant to the question.\n",
      "Provide the number of the source document when relevant.\n",
      "If you cannot find information, do not give up and try calling your retriever again with different arguments!\n",
      "\n",
      "Question:\n",
      "What parameter is used to ensure that elements in a row have the same height in Gradio?\n",
      "\u001b[0m\n"
     ]
    },
    {
     "name": "stdout",
     "output_type": "stream",
     "text": [
      "=======================================================\n",
      "Question: What is the name of the open-source library created by Hugging Face to simplify Transformer acceleration?\n",
      "\n",
      "Answer: The name of the open-source library created by Hugging Face to simplify Transformer acceleration is Optimum (also referred to as '🤗 Optimum' and 'Optimum Intel'). This information is derived from multiple documents in the knowledge base.\n",
      "True answer: Optimum\n"
     ]
    },
    {
     "name": "stderr",
     "output_type": "stream",
     "text": [
      "\u001b[33;1mCalling tool: 'retriever' with arguments: {'query': 'What parameter is used to ensure that elements in a row have the same height in Gradio?'}\u001b[0m\n",
      "\u001b[33;1mCalling tool: 'final_answer' with arguments: {'answer': 'The `equal_height` parameter is used to ensure that elements in a row have the same height in Gradio.'}\u001b[0m\n",
      " 98%|█████████▊| 64/65 [15:24<00:12, 12.17s/it]\u001b[33;1m======== New task ========\u001b[0m\n",
      "\u001b[37;1mUsing the information contained in your knowledge base, which you can access with the 'retriever' tool,\n",
      "give a comprehensive answer to the question below.\n",
      "Respond only to the question asked, response should be concise and relevant to the question.\n",
      "Provide the number of the source document when relevant.\n",
      "If you cannot find information, do not give up and try calling your retriever again with different arguments!\n",
      "\n",
      "Question:\n",
      "What is the command to install the latest version of Optimum with OpenVINO support?\n",
      "\u001b[0m\n"
     ]
    },
    {
     "name": "stdout",
     "output_type": "stream",
     "text": [
      "=======================================================\n",
      "Question: What parameter is used to ensure that elements in a row have the same height in Gradio?\n",
      "\n",
      "Answer: The `equal_height` parameter is used to ensure that elements in a row have the same height in Gradio.\n",
      "True answer: equal_height\n"
     ]
    },
    {
     "name": "stderr",
     "output_type": "stream",
     "text": [
      "\u001b[33;1mCalling tool: 'retriever' with arguments: {'query': 'Optimum installation command with OpenVINO support'}\u001b[0m\n",
      "\u001b[33;1mCalling tool: 'final_answer' with arguments: {'answer': \"The command to install the latest version of Optimum with OpenVINO support is:\\n\\nbash\\npip install --upgrade-strategy eager optimum['openvino']\\n\\n\\nThis command ensures that the latest version of Optimum is installed with support for OpenVINO, enabling inference on a variety of Intel processors.\"}\u001b[0m\n",
      "100%|██████████| 65/65 [15:49<00:00, 14.60s/it]"
     ]
    },
    {
     "name": "stdout",
     "output_type": "stream",
     "text": [
      "=======================================================\n",
      "Question: What is the command to install the latest version of Optimum with OpenVINO support?\n",
      "\n",
      "Answer: The command to install the latest version of Optimum with OpenVINO support is:\n",
      "\n",
      "bash\n",
      "pip install --upgrade-strategy eager optimum['openvino']\n",
      "\n",
      "\n",
      "This command ensures that the latest version of Optimum is installed with support for OpenVINO, enabling inference on a variety of Intel processors.\n",
      "True answer: pip install --upgrade-strategy eager optimum[\"openvino\"]\n"
     ]
    },
    {
     "name": "stderr",
     "output_type": "stream",
     "text": [
      "\n"
     ]
    }
   ],
   "source": [
    "from transformers.agents.agents import AgentError\n",
    "\n",
    "outputs = []\n",
    "\n",
    "\n",
    "def serialize_agent_error(obj):\n",
    "    if isinstance(obj, AgentError):\n",
    "        return {\"error_type\": obj.__class__.__name__, \"message\": obj.message}\n",
    "    else:\n",
    "        return str(obj)\n",
    "\n",
    "\n",
    "for example in tqdm(eval_dataset):\n",
    "    question = example[\"question\"]\n",
    "    if question in [el[\"question\"] for el in outputs]:\n",
    "        continue\n",
    "\n",
    "    enhanced_question = f\"\"\"Using the information contained in your knowledge base, which you can access with the 'retriever' tool,\n",
    "give a comprehensive answer to the question below.\n",
    "Respond only to the question asked, response should be concise and relevant to the question.\n",
    "Provide the number of the source document when relevant.\n",
    "If you cannot find information, do not give up and try calling your retriever again with different arguments!\n",
    "\n",
    "Question:\n",
    "{question}\"\"\"\n",
    "    answer = agent.run(enhanced_question)\n",
    "    print(\"=======================================================\")\n",
    "    print(f\"Question: {question}\")\n",
    "    print(f\"Answer: {answer}\")\n",
    "    print(f'True answer: {example[\"answer\"]}')\n",
    "\n",
    "    result = {\n",
    "        \"question\": question,\n",
    "        \"true_answer\": example[\"answer\"],\n",
    "        \"source_doc\": example[\"source_doc\"],\n",
    "        \"generated_answer\": answer,\n",
    "    }\n",
    "    outputs.append(result)\n",
    "\n",
    "    with open(\"outputs.jsonl\", \"w\") as f:\n",
    "        for d in outputs:\n",
    "            json.dump(d, f, default=serialize_agent_error)\n",
    "            f.write(\"\\n\")  # add a newline for JSONL format"
   ]
  },
  {
   "cell_type": "code",
   "execution_count": 81,
   "metadata": {},
   "outputs": [
    {
     "name": "stdout",
     "output_type": "stream",
     "text": [
      "Loaded 65 answers.\n"
     ]
    },
    {
     "name": "stderr",
     "output_type": "stream",
     "text": [
      "100%|██████████| 65/65 [05:02<00:00,  4.65s/it]\n"
     ]
    }
   ],
   "source": [
    "for experiment in tqdm(outputs):\n",
    "    eval_prompt = EVALUATION_PROMPT.format(\n",
    "        instruction=experiment[\"question\"],\n",
    "        response=experiment[\"generated_answer\"],\n",
    "        reference_answer=experiment[\"true_answer\"],\n",
    "    )\n",
    "    messages = [\n",
    "        {\"role\": \"system\", \"content\": \"You are a fair evaluator language model.\"},\n",
    "        {\"role\": \"user\", \"content\": eval_prompt},\n",
    "    ]\n",
    "\n",
    "    eval_result = (\n",
    "        client.chat.completions.create(\n",
    "            model=\"gpt-4-1106-preview\", messages=messages, temperature=0.5\n",
    "        )\n",
    "        .choices[0]\n",
    "        .message.content\n",
    "    )\n",
    "\n",
    "    feedback, score = [item.strip() for item in eval_result.split(\"[RESULT]\")]\n",
    "    experiment[f\"eval_score_LLM_judge\"] = score\n",
    "    experiment[f\"eval_feedback_LLM_judge\"] = feedback"
   ]
  },
  {
   "cell_type": "code",
   "execution_count": 82,
   "metadata": {},
   "outputs": [
    {
     "name": "stdout",
     "output_type": "stream",
     "text": [
      "Average score: 0.850\n"
     ]
    }
   ],
   "source": [
    "import pandas as pd\n",
    "\n",
    "result = pd.DataFrame.from_dict(outputs)\n",
    "result = result.loc[~result[\"generated_answer\"].str.contains(\"Error\")]\n",
    "result[\"eval_score_LLM_judge_int\"] = result[\"eval_score_LLM_judge\"].apply(\n",
    "    lambda x: int(x)\n",
    ")\n",
    "result[\"eval_score_LLM_judge_int\"] = (result[\"eval_score_LLM_judge_int\"] - 1) / 4\n",
    "\n",
    "print(f\"Average score: {result['eval_score_LLM_judge_int'].mean():.3f}\")"
   ]
  },
  {
   "cell_type": "markdown",
   "metadata": {},
   "source": [
    "So we reach 85% score with this simple setup!"
   ]
  }
 ],
 "metadata": {
  "kernelspec": {
   "display_name": "disposable",
   "language": "python",
   "name": "python3"
  },
  "language_info": {
   "codemirror_mode": {
    "name": "ipython",
    "version": 3
   },
   "file_extension": ".py",
   "mimetype": "text/x-python",
   "name": "python",
   "nbconvert_exporter": "python",
   "pygments_lexer": "ipython3",
   "version": "3.10.14"
  }
 },
 "nbformat": 4,
 "nbformat_minor": 2
}
