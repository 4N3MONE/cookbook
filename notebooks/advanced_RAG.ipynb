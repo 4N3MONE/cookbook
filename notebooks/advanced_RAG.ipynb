{
 "cells": [
  {
   "cell_type": "markdown",
   "metadata": {},
   "source": [
    "# Advanced RAG on HuggingFace documentation using langchain"
   ]
  },
  {
   "cell_type": "markdown",
   "metadata": {},
   "source": [
    "This notebook demonstrates how you can build an advanced RAG (Retrieval Augmented Generation) for answering a user's question about a specific knowledge base (here, the HuggingFace documentation), using LangChain.\n",
    "\n",
    "RAG systems have plentiful options for improvement: we will see how you can tune your system along the way to improve results beyond a baseline model.\n",
    "\n",
    "# What is RAG?\n",
    "\n",
    "When using a Large Language Model (LLM) to answer questions about a particular field of knowledge, two issues may appear:\n",
    "- the LLM not having knowledge of domain-specific information due to it not being available in its training data\n",
    "- the risk of hallucination: when asked to give an answer on an unknown field, the LLM may hallucinate a credible answer.\n",
    "\n",
    "These two problems can be tempered by fine-tuning the LLM on the said field of knowledge\n",
    "However, fine-tuning can be costly, and, when done repeatedly (e.g. to address changes in data), leads to \"model shift\" _(this is when the model's behavior changes in ways that are not desirable)_.\n",
    "\n",
    "RAG (Retrieval Augmented Generation) does not require model fine-tuning. Instead, RAG works by enhancing an LLM with access to additional context retrieved from relevant data, so that it can generate a better-informed response.\n",
    "\n",
    "RAG systems consists of two subsystems:\n",
    "\n",
    "1. A Retriever system, functioning like an internal search engine, identifies the most relevant documents from the knowledge base to respond to the query.\n",
    "2. A Reader Language Model (LLM) reads these retrieved documents to produce an answer to the user’s query.\n",
    "\n",
    "Here is the workflow, with paths for system tuning noted in blue:\n",
    "\n",
    "<img src=\"https://huggingface.co/datasets/huggingface/cookbook-images/resolve/main/RAG_graph.png\" height=\"700\">\n",
    "\n",
    "\n",
    "> 💡 As you can see, there are many steps to tune in this architecture: tuning the system properly will yield significant performance gains.\n",
    "\n",
    "__Let's dig into the model building!__ First, we install the required model dependancies."
   ]
  },
  {
   "cell_type": "code",
   "execution_count": 1,
   "metadata": {},
   "outputs": [
    {
     "name": "stdout",
     "output_type": "stream",
     "text": [
      "\n",
      "\u001b[1m[\u001b[0m\u001b[34;49mnotice\u001b[0m\u001b[1;39;49m]\u001b[0m\u001b[39;49m A new release of pip available: \u001b[0m\u001b[31;49m22.3.1\u001b[0m\u001b[39;49m -> \u001b[0m\u001b[32;49m23.3.2\u001b[0m\n",
      "\u001b[1m[\u001b[0m\u001b[34;49mnotice\u001b[0m\u001b[1;39;49m]\u001b[0m\u001b[39;49m To update, run: \u001b[0m\u001b[32;49mpip install --upgrade pip\u001b[0m\n"
     ]
    }
   ],
   "source": [
    "!pip install -q torch transformers transformers langchain sentence-transformers faiss-gpu openpyxl openai"
   ]
  },
  {
   "cell_type": "code",
   "execution_count": null,
   "metadata": {},
   "outputs": [],
   "source": [
    "%reload_ext dotenv\n",
    "%dotenv"
   ]
  },
  {
   "cell_type": "code",
   "execution_count": 6,
   "metadata": {},
   "outputs": [],
   "source": [
    "from tqdm.notebook import tqdm\n",
    "import pandas as pd\n",
    "from typing import Optional, List, Tuple\n",
    "from datasets import Dataset\n",
    "import matplotlib.pyplot as plt\n",
    "\n",
    "pd.set_option(\n",
    "    \"display.max_colwidth\", None\n",
    ")  # this will be helpful when visualizing retriever outputs"
   ]
  },
  {
   "cell_type": "markdown",
   "metadata": {},
   "source": [
    "### Load your knowledge base"
   ]
  },
  {
   "cell_type": "code",
   "execution_count": 7,
   "metadata": {},
   "outputs": [],
   "source": [
    "import datasets\n",
    "\n",
    "ds = datasets.load_dataset(\"A-Roucher/huggingface_doc\", split=\"train\")"
   ]
  },
  {
   "cell_type": "markdown",
   "metadata": {},
   "source": [
    "# 1. Retriever - embeddings 🗂️\n",
    "The __retriever acts like an internal search engine__: given the user query, it returns the `top_k` most relevant snippets from your knowledge base.\n",
    "\n",
    "> For the knowledge base, we use Langchain vector databases since __it offers a convenient [FAISS](https://github.com/facebookresearch/faiss) index and allows us to keep document metadata throughout the processing__."
   ]
  },
  {
   "cell_type": "markdown",
   "metadata": {},
   "source": [
    "### 1.1 Split the documents into chunks\n",
    "\n",
    "- In this part, __we split the documents from our knowledge base into smaller chunks__ which will be the snippets on which the reader LLM will base its answer.\n",
    "- The goal is to have semantically relevant snippets: not too small to be sufficient for supporting an answer, and not too large too avoid diluting each idea.\n",
    "\n",
    "> We use Langchain's `RecursiveCharacterTextSplitter`, which makes efficient use of code language detection to make better splits.\n",
    "\n",
    "The parameter `chunk_size` controls the length of individual chunks: this length is counted by default as the number of characters in the chunk."
   ]
  },
  {
   "cell_type": "code",
   "execution_count": 9,
   "metadata": {},
   "outputs": [
    {
     "data": {
      "application/vnd.jupyter.widget-view+json": {
       "model_id": "13a5033490364eb298be9ff1e7a75fa3",
       "version_major": 2,
       "version_minor": 0
      },
      "text/plain": [
       "  0%|          | 0/2647 [00:00<?, ?it/s]"
      ]
     },
     "metadata": {},
     "output_type": "display_data"
    }
   ],
   "source": [
    "from langchain.docstore.document import Document as LangchainDocument\n",
    "\n",
    "RAW_KNOWLEDGE_BASE = [\n",
    "    LangchainDocument(page_content=doc[\"text\"], metadata={\"source\": doc[\"source\"]})\n",
    "    for doc in tqdm(ds)\n",
    "]"
   ]
  },
  {
   "cell_type": "code",
   "execution_count": 36,
   "metadata": {},
   "outputs": [],
   "source": [
    "from langchain.text_splitter import RecursiveCharacterTextSplitter\n",
    "\n",
    "text_splitter = RecursiveCharacterTextSplitter(\n",
    "    chunk_size=1000,  # the maximum number of characters in a chunk\n",
    "    chunk_overlap=100,  # the number of characters to overlap between chunks\n",
    "    add_start_index=True,  # If `True`, includes chunk's start index in metadata\n",
    "    strip_whitespace=True,  # If `True`, strips whitespace from the start and end of every document\n",
    "    separators=[\"\\n\\n\", \"\\n\", \".\", \" \", \"\"],\n",
    ")\n",
    "\n",
    "docs_processed = []\n",
    "for doc in RAW_KNOWLEDGE_BASE:\n",
    "    docs_processed += text_splitter.split_documents([doc])"
   ]
  },
  {
   "cell_type": "markdown",
   "metadata": {},
   "source": [
    "Now we have to keep in mind that when embeddding documents, we will use an embedding model that has accepts a certain maximum sequence length `max_seq_length`.\n",
    "\n",
    "So we should make sure that our chunk sizes are below this limit, because any longer chunk will be truncated before processing, thus losing relevancy."
   ]
  },
  {
   "cell_type": "code",
   "execution_count": 34,
   "metadata": {},
   "outputs": [
    {
     "name": "stdout",
     "output_type": "stream",
     "text": [
      "Model's maximum sequence length: 512\n"
     ]
    },
    {
     "data": {
      "image/png": "[encoded data removed]",
      "text/plain": [
       "<Figure size 640x480 with 1 Axes>"
      ]
     },
     "metadata": {},
     "output_type": "display_data"
    }
   ],
   "source": [
    "from sentence_transformers import SentenceTransformer\n",
    "\n",
    "# To get the value of the max sequence_length, we will query the underlying `SentenceTransformer` object used in the RecursiveCharacterTextSplitter.\n",
    "print(\n",
    "    f\"Model's maximum sequence length: {SentenceTransformer('thenlper/gte-small').max_seq_length}\"\n",
    ")\n",
    "\n",
    "from transformers import AutoTokenizer\n",
    "\n",
    "tokenizer = AutoTokenizer.from_pretrained(\"thenlper/gte-small\")\n",
    "lengths = [len(tokenizer.encode(doc.page_content)) for doc in docs_processed]\n",
    "\n",
    "# Plot the distrubution of document lengths, counted as the number of tokens\n",
    "fig = pd.Series(lengths).hist()\n",
    "plt.title(\"Distribution of document lengths in the knowledge base (in count of tokens)\")\n",
    "plt.show()"
   ]
  },
  {
   "cell_type": "markdown",
   "metadata": {},
   "source": [
    "👀 As you can see, __the chunk lengths are not aligned with our limit of 512 tokens__, and some documents are above the limit, thus some part of them will be lost in truncation!\n",
    " - So we should change the `RecursiveCharacterTextSplitter` class to count length in number of tokens instead of number of characters.\n",
    " - Then we can choose a specific chunk size, here we would choose a lower threshold than 512:\n",
    "    - smaller documents could allow the split to focus more on specific ideas.\n",
    "    - But too small chunks would split sentences in half, thus losing meaning again: the proper tuning is a matter of balance."
   ]
  },
  {
   "cell_type": "code",
   "execution_count": 39,
   "metadata": {},
   "outputs": [
    {
     "data": {
      "image/png": "[encoded data removed]",
      "text/plain": [
       "<Figure size 640x480 with 1 Axes>"
      ]
     },
     "metadata": {},
     "output_type": "display_data"
    }
   ],
   "source": [
    "from langchain.text_splitter import RecursiveCharacterTextSplitter\n",
    "from transformers import AutoTokenizer\n",
    "\n",
    "EMBEDDING_MODEL_NAME = \"thenlper/gte-small\"\n",
    "\n",
    "\n",
    "def split_documents(\n",
    "    chunk_size: int,\n",
    "    knowledge_base: List[LangchainDocument],\n",
    "    tokenizer_name: Optional[str] = EMBEDDING_MODEL_NAME,\n",
    ") -> List[LangchainDocument]:\n",
    "    \"\"\"\n",
    "    Split documents into chunks of maximum size `chunk_size` tokens and return a list of documents.\n",
    "    \"\"\"\n",
    "    text_splitter = RecursiveCharacterTextSplitter.from_huggingface_tokenizer(\n",
    "        AutoTokenizer.from_pretrained(tokenizer_name),\n",
    "        chunk_size=chunk_size,\n",
    "        chunk_overlap=int(chunk_size / 10),\n",
    "        add_start_index=True,\n",
    "        strip_whitespace=True,\n",
    "        separators=[\"\\n\\n\", \"\\n\", \".\", \" \", \"\"],\n",
    "    )\n",
    "\n",
    "    docs_processed = []\n",
    "    for doc in knowledge_base:\n",
    "        docs_processed += text_splitter.split_documents([doc])\n",
    "\n",
    "    return docs_processed\n",
    "\n",
    "\n",
    "docs_processed = split_documents(\n",
    "    512,  # We choose a chunk size adapted to our model\n",
    "    RAW_KNOWLEDGE_BASE,\n",
    "    tokenizer_name=EMBEDDING_MODEL_NAME,\n",
    ")\n",
    "\n",
    "# Let's visualize the chunk sizes we would have in tokens from a common model\n",
    "from transformers import AutoTokenizer\n",
    "\n",
    "tokenizer = AutoTokenizer.from_pretrained(EMBEDDING_MODEL_NAME)\n",
    "lengths = [len(tokenizer.encode(doc.page_content)) for doc in tqdm(docs_processed)]\n",
    "fig = pd.Series(lengths).hist()\n",
    "plt.title(\"Distribution of document lengths in the knowledge base (in count of tokens)\")\n",
    "plt.show()"
   ]
  },
  {
   "cell_type": "markdown",
   "metadata": {},
   "source": [
    "➡️ Now the chunk length distribution looks better!\n",
    "\n",
    "💡 To help you tune this step, [this space](https://huggingface.co/spaces/A-Roucher/chunk_visualizer) lets you visualize how different chunking options affect the chunks you get.\n",
    "\n",
    "https://github.com/langchain-ai/langchain/blob/master/libs/community/langchain_community/embeddings/huggingface.py#L232"
   ]
  },
  {
   "cell_type": "markdown",
   "metadata": {},
   "source": [
    "### 1.2 Building the vector database\n",
    "\n",
    "Now we compute the embeddings for all the chunks of our knowledge base: we recommend reading [this guide](https://osanseviero.github.io/hackerllama/blog/posts/sentence_embeddings/) about sentence embeddings.\n",
    "\n",
    "Once the chunks are all embedded, we store them into a vector database. There are many choices here for the database, depending on the search strategy to use. We go with Facebook's [FAISS](https://github.com/facebookresearch/faiss).\n",
    "\n",
    "Our particular model works well with [Cosine similarity](https://osanseviero.github.io/hackerllama/blog/posts/sentence_embeddings/#distance-between-embeddings), so we use this distance both in the Embedding model, and in the `distance_strategy` argument of our FAISS index.\n",
    "\n",
    "⬇️🚨 The cell below takes a few minutes to run on A10G!"
   ]
  },
  {
   "cell_type": "code",
   "execution_count": null,
   "metadata": {},
   "outputs": [],
   "source": [
    "from langchain.vectorstores import FAISS\n",
    "from langchain_community.embeddings import HuggingFaceEmbeddings\n",
    "from langchain_community.vectorstores.utils import DistanceStrategy\n",
    "\n",
    "embedding_model = HuggingFaceEmbeddings(\n",
    "    model_name=EMBEDDING_MODEL_NAME,\n",
    "    multi_process=True,\n",
    "    model_kwargs={\"device\": \"cuda\"},\n",
    "    encode_kwargs={\"normalize_embeddings\": True},  # set True for cosine similarity\n",
    ")\n",
    "\n",
    "KNOWLEDGE_INDEX = FAISS.from_documents(\n",
    "    docs_processed, embedding_model, distance_strategy=DistanceStrategy.COSINE\n",
    ")"
   ]
  },
  {
   "cell_type": "markdown",
   "metadata": {},
   "source": [
    "### 1.3 Setup the Retriever\n",
    "- When the vector database is built, the retriever works by embedding the user query and searching for the top `k` most similar documents in the vector database.\n",
    "- Here, this operation is transparently performed by the method `KNOWLEDGE_INDEX.similarity_search(query)`"
   ]
  },
  {
   "cell_type": "code",
   "execution_count": 124,
   "metadata": {},
   "outputs": [
    {
     "name": "stdout",
     "output_type": "stream",
     "text": [
      "\n",
      "Starting retrieval...\n",
      "\n",
      "==================================Top document==================================\n",
      "!--Copyright 2020 The HuggingFace Team. All rights reserved.\n",
      "\n",
      "Licensed under the Apache License, Version 2.0 (the \"License\"); you may not use this file except in compliance with\n",
      "the License. You may obtain a copy of the License at\n",
      "\n",
      "http://www.apache.org/licenses/LICENSE-2.0\n",
      "\n",
      "Unless required by applicable law or agreed to in writing, software distributed under the License is distributed on\n",
      "an \"AS IS\" BASIS, WITHOUT WARRANTIES OR CONDITIONS OF ANY KIND, either express or implied. See the License for the\n",
      "\n",
      "⚠️ Note that this file is in Markdown but contain specific syntax for our doc-builder (similar to MDX) that may not be\n",
      "rendered properly in your Markdown viewer.\n",
      "\n",
      "-->\n",
      "\n",
      "# How to create a custom pipeline?\n",
      "\n",
      "In this guide, we will see how to create a custom pipeline and share it on the [Hub](hf.co/models) or add it to the\n",
      "🤗 Transformers library.\n",
      "\n",
      "First and foremost, you need to decide the raw entries the pipeline will be able to take. It can be strings, raw bytes,\n",
      "dictionaries or whatever seems to be the most likely desired input. Try to keep these inputs as pure Python as possible\n",
      "as it makes compatibility easier (even through other languages via JSON). Those will be the `inputs` of the\n",
      "pipeline (`preprocess`).\n",
      "\n",
      "Then define the `outputs`. Same policy as the `inputs`. The simpler, the better. Those will be the outputs of\n",
      "`postprocess` method.\n",
      "\n",
      "Start by inheriting the base class `Pipeline` with the 4 methods needed to implement `preprocess`,\n",
      "`_forward`, `postprocess`, and `_sanitize_parameters`.\n",
      "\n",
      "\n",
      "```python\n",
      "from transformers import Pipeline\n",
      "==================================Metadata==================================\n",
      "{'source': 'huggingface/transformers/blob/main/docs/source/en/add_new_pipeline.md', 'start_index': 0}\n"
     ]
    }
   ],
   "source": [
    "print(\"\\nStarting retrieval...\")\n",
    "retrieved_docs = KNOWLEDGE_INDEX.similarity_search(\n",
    "    query=\"How to create a pipeline object?\", k=5\n",
    ")\n",
    "print(\n",
    "    \"\\n==================================Top document==================================\"\n",
    ")\n",
    "print(retrieved_docs[0].page_content)\n",
    "print(\"==================================Metadata==================================\")\n",
    "print(retrieved_docs[0].metadata)"
   ]
  },
  {
   "cell_type": "markdown",
   "metadata": {},
   "source": [
    "## 2. Reader - LLM 💬\n",
    "\n",
    "In this part, the __LLM Reader reads the retrieved context to formulate its answer.__\n",
    "\n",
    "There are actually substeps that can all be tuned:\n",
    "1. The content of the retrieved documents is aggregated together into the \"context\", with many processing options like _prompt compression_.\n",
    "2. The context and the user query are aggregated into a prompt then given to the LLM to generate its answer."
   ]
  },
  {
   "cell_type": "markdown",
   "metadata": {},
   "source": [
    "### Reader model\n",
    "\n",
    "The choice of a reader model is important on a few aspects:\n",
    "- the reader model's `max_seq_length` must accomodate our prompt, which includes the context output by the retriever call: the context consists in 5 documents of 512 tokens each, so we aim for a context length of 4k tokens at least.\n",
    "- the reader model"
   ]
  },
  {
   "cell_type": "code",
   "execution_count": 103,
   "metadata": {},
   "outputs": [
    {
     "data": {
      "application/vnd.jupyter.widget-view+json": {
       "model_id": "633a7e9da5da49c3bad8820cf41df35f",
       "version_major": 2,
       "version_minor": 0
      },
      "text/plain": [
       "Loading checkpoint shards:   0%|          | 0/3 [00:00<?, ?it/s]"
      ]
     },
     "metadata": {},
     "output_type": "display_data"
    }
   ],
   "source": [
    "from transformers import pipeline\n",
    "\n",
    "READER_MODEL_NAME = \"mistralai/Mistral-7B-Instruct-v0.2\"\n",
    "\n",
    "READER_LLM = pipeline(\"text-generation\", model=READER_MODEL_NAME, max_new_tokens=500)\n",
    "\n",
    "\n",
    "# Since we only want to get the outputs and not the prompt + outputs, we use a new method removing the prompt from the llm outputs\n",
    "def invoke_llm(prompt: str) -> str:\n",
    "    return READER_LLM(prompt)[0][\"generated_text\"][len(prompt) :]"
   ]
  },
  {
   "cell_type": "markdown",
   "metadata": {},
   "source": [
    "### Prompt\n",
    "\n",
    "The RAG prompt template below is what we will feed to the Reader LLM: it is important to have it formatted in the Reader LLM's chat template."
   ]
  },
  {
   "cell_type": "code",
   "execution_count": 107,
   "metadata": {},
   "outputs": [],
   "source": [
    "RAG_PROMPT_TEMPLATE = \"\"\"\n",
    "<|system|>\n",
    "Using the information contained in the context, \n",
    "give a comprehensive answer to the question.\n",
    "Respond only to the question asked, response should be concise and relevant to the question.\n",
    "Provide the number of the source document when relevant.\n",
    "If the answer cannot be deduced from the context, do not give an answer.</s>\n",
    "<|user|>\n",
    "Context:\n",
    "{context}\n",
    "---\n",
    "Now here is the question you need to answer.\n",
    "\n",
    "Question: {question}\n",
    "</s>\n",
    "<|assistant|>\n",
    "\"\"\""
   ]
  },
  {
   "cell_type": "markdown",
   "metadata": {},
   "source": [
    "Let's test our Reader on our previously retrieved documents!"
   ]
  },
  {
   "cell_type": "code",
   "execution_count": 125,
   "metadata": {},
   "outputs": [
    {
     "name": "stderr",
     "output_type": "stream",
     "text": [
      "Setting `pad_token_id` to `eos_token_id`:2 for open-end generation.\n"
     ]
    },
    {
     "name": "stdout",
     "output_type": "stream",
     "text": [
      "To create a pipeline object, you first need to import the `pipeline` function from the `transformers` library. Then, you can create a pipeline instance by passing the model name or path to the `pipeline` function. For example:\n",
      "\n",
      "```python\n",
      "from transformers import pipeline\n",
      "pipe = pipeline(\"model_name_or_path\")\n",
      "```\n",
      "\n",
      "Replace \"model_name_or_path\" with the name or path of the model you want to use. The pipeline object will be able to perform inference on the input data using the specified model.\n",
      "\n",
      "If you want to specify additional arguments like the device to run the pipeline on, you can pass them as keyword arguments. For example:\n",
      "\n",
      "```python\n",
      "pipe = pipeline(\"model_name_or_path\", device=\"cuda:0\")\n",
      "```\n",
      "\n",
      "This will create a pipeline object that runs the inference on the CUDA device with index 0.\n",
      "\n",
      "Please note that the exact steps to create a pipeline might vary depending on the specific use case and the type of data you want to process (text, image, audio, etc.). The documentation for the specific pipeline you want to use should provide more detailed instructions.\n",
      "\n",
      "Also, keep in mind that pipelines are designed to be easy to use and are not feature complete. They are meant to serve as examples of how to use models and schedulers for inference. If you need more advanced functionality, you might need to write custom code.\n",
      "\n",
      "References:\n",
      "1. [Pipeline documentation](https://huggingface.co/docs/transformers/main_classes/pipeline.html)\n",
      "2. [Pipeline documentation (PyTorch)](https://huggingface.co/docs/transformers/main_classes/PyTorchPipeline.html)\n",
      "3. [Pipeline documentation (TensorFlow)](https://huggingface.co/docs/transformers/main_classes/TFPipeline.html)\n",
      "4. [Pipeline documentation (JAX)](https://huggingface.co/docs/transformers/main_classes/JaxPipeline.html)\n"
     ]
    }
   ],
   "source": [
    "retrieved_docs_text = [\n",
    "    doc.page_content for doc in retrieved_docs\n",
    "]  # we only need the text of the documents\n",
    "context = \"\\nExtracted documents:\\n\"\n",
    "context += \"\".join(\n",
    "    [f\"Document {str(i)}:::\\n\" + doc for i, doc in enumerate(retrieved_docs_text)]\n",
    ")\n",
    "\n",
    "final_prompt = RAG_PROMPT_TEMPLATE.format(\n",
    "    question=\"How to create a pipeline object?\", context=context\n",
    ")\n",
    "\n",
    "# Redact an answer\n",
    "answer = invoke_llm(final_prompt)\n",
    "print(answer)"
   ]
  },
  {
   "cell_type": "markdown",
   "metadata": {},
   "source": [
    "# 3. Assembling it all!"
   ]
  },
  {
   "cell_type": "markdown",
   "metadata": {},
   "source": [
    "A good option for RAG is to retrieve more documents than you want in the end, then rerank the results with a more powerful retrieval model before keeping only the `top_k`.\n",
    "\n",
    "For this, [Colbertv2](https://arxiv.org/abs/2112.01488) is a great choice: instead of a bi-encoder like our classical embedding models, it is a cross-encoder that computes more fine-grained interactions between the query tokens and each document's tokens.\n",
    "\n",
    "It is now easily usable thanks to the library [ragatouille](https://github.com/bclavie/RAGatouille)."
   ]
  },
  {
   "cell_type": "code",
   "execution_count": 113,
   "metadata": {},
   "outputs": [],
   "source": [
    "from ragatouille import RAGPretrainedModel\n",
    "\n",
    "RERANKER = RAGPretrainedModel.from_pretrained(\"colbert-ir/colbertv2.0\")"
   ]
  },
  {
   "cell_type": "code",
   "execution_count": 127,
   "metadata": {},
   "outputs": [],
   "source": [
    "def answer_with_rag(\n",
    "    question: str,\n",
    "    call_llm,\n",
    "    knowledge_index: FAISS,\n",
    "    reranker: Optional[RAGPretrainedModel] = None,\n",
    "    num_retrieved_docs: int = 30,\n",
    "    num_docs_final: int = 5,\n",
    ") -> Tuple[str, List[LangchainDocument]]:\n",
    "    # Gather documents with retriever\n",
    "    print(\"=> Retrieving documents...\")\n",
    "    relevant_docs = knowledge_index.similarity_search(\n",
    "        query=question, k=num_retrieved_docs\n",
    "    )\n",
    "    relevant_docs = [doc.page_content for doc in relevant_docs]  # keep only the text\n",
    "\n",
    "    # Optionally rerank results\n",
    "    if reranker:\n",
    "        print(\"=> Reranking documents...\")\n",
    "        relevant_docs = reranker.rerank(question, relevant_docs, k=num_docs_final)\n",
    "        relevant_docs = [doc[\"content\"] for doc in relevant_docs]\n",
    "\n",
    "    relevant_docs = relevant_docs[:num_docs_final]\n",
    "\n",
    "    # Build the final prompt\n",
    "    context = \"\\nExtracted documents:\\n\"\n",
    "    context += \"\".join(\n",
    "        [f\"Document {str(i)}:::\\n\" + doc for i, doc in enumerate(relevant_docs)]\n",
    "    )\n",
    "\n",
    "    final_prompt = RAG_PROMPT_TEMPLATE.format(question=question, context=context)\n",
    "\n",
    "    # Redact an answer\n",
    "    print(\"=> Generating answer...\")\n",
    "    answer = call_llm(final_prompt)\n",
    "\n",
    "    return answer, relevant_docs"
   ]
  },
  {
   "cell_type": "markdown",
   "metadata": {},
   "source": [
    "## Test\n",
    "Let's see how our RAG pipeline answers a user query."
   ]
  },
  {
   "cell_type": "code",
   "execution_count": 128,
   "metadata": {},
   "outputs": [
    {
     "name": "stdout",
     "output_type": "stream",
     "text": [
      "=> Retrieving documents...\n"
     ]
    },
    {
     "name": "stderr",
     "output_type": "stream",
     "text": [
      "Setting `pad_token_id` to `eos_token_id`:2 for open-end generation.\n"
     ]
    },
    {
     "name": "stdout",
     "output_type": "stream",
     "text": [
      "=> Reranking documents...\n",
      "WARNING! Your documents have duplicate entries!  This will slow down calculation and may yield subpar results\n",
      "=> Generating answer...\n"
     ]
    }
   ],
   "source": [
    "question = \"how to create a pipeline object?\"\n",
    "\n",
    "\n",
    "answer, relevant_docs = answer_with_rag(\n",
    "    question, invoke_llm, KNOWLEDGE_INDEX, reranker=RERANKER\n",
    ")"
   ]
  },
  {
   "cell_type": "code",
   "execution_count": 129,
   "metadata": {},
   "outputs": [
    {
     "name": "stdout",
     "output_type": "stream",
     "text": [
      "==================================Answer==================================\n",
      "To create a pipeline object for a vision task, you can use the `pipeline` function from the `transformers` library, and specify the task as an argument. For example, to create a pipeline for object detection, you can use:\n",
      "\n",
      "```python\n",
      ">>> pipeline = pipeline('object-detection')\n",
      "```\n",
      "\n",
      "You can then use this pipeline to make predictions on images. For example:\n",
      "\n",
      "```python\n",
      ">>> image = cv2.imread('image.jpg')\n",
      ">>> result = pipeline(images=image)\n",
      ">>> print(result)\n",
      "```\n",
      "\n",
      "This will return a list of detections, each containing the label, score, and bounding box coordinates.\n",
      "\n",
      "If you want to make predictions on multiple images at once, you can pass them as a list:\n",
      "\n",
      "```python\n",
      ">>> images = [cv2.imread('image1.jpg'), cv2.imread('image2.jpg')]\n",
      ">>> result = pipeline(images=images)\n",
      ">>> print(result)\n",
      "```\n",
      "\n",
      "This will return a list of results, each corresponding to one of the input images.\n",
      "\n",
      "You can also make predictions on images loaded from URLs or base64-encoded images. For example:\n",
      "\n",
      "```python\n",
      ">>> import base64\n",
      ">>> image_base64 = 'iVBORw0KGgoAAAANSUhEUgAAAAEAAAABCAYAAAAfFcSJAAAADUlEQVR4nGNgGAWjYBSMgw8hHRk9NRUY3RSkz+Skz+Skz+Skz+Skz+Skz+Skz+Skz+Skz+Skz+Skz+Skz+Skz+Skz+Skz+Skz+Skz+Skz+Skz+Skz+Skz+Skz+Skz+Skz+Skz+Skz+Skz+Skz+Skz+Skz+Skz+Skz+Skz+Skz+Skz+Skz+Skz+Skz+Skz+Skz+Skz+Skz+Skz+Skz+Skz+Skz+Skz+Skz+Skz+Skz+Skz+Skz+Sk\n",
      "==================================Source docs==================================\n",
      "Document 0------------------------------------------------------------\n",
      "# Allocate a pipeline for object detection\n",
      ">>> object_detector = pipeline('object-detection')\n",
      ">>> object_detector(image)\n",
      "[{'score': 0.9982201457023621,\n",
      "  'label': 'remote',\n",
      "  'box': {'xmin': 40, 'ymin': 70, 'xmax': 175, 'ymax': 117}},\n",
      " {'score': 0.9960021376609802,\n",
      "  'label': 'remote',\n",
      "  'box': {'xmin': 333, 'ymin': 72, 'xmax': 368, 'ymax': 187}},\n",
      " {'score': 0.9954745173454285,\n",
      "  'label': 'couch',\n",
      "  'box': {'xmin': 0, 'ymin': 1, 'xmax': 639, 'ymax': 473}},\n",
      " {'score': 0.9988006353378296,\n",
      "  'label': 'cat',\n",
      "  'box': {'xmin': 13, 'ymin': 52, 'xmax': 314, 'ymax': 470}},\n",
      " {'score': 0.9986783862113953,\n",
      "  'label': 'cat',\n",
      "  'box': {'xmin': 345, 'ymin': 23, 'xmax': 640, 'ymax': 368}}]\n",
      "```\n",
      "\n",
      "ここでは、画像から検出されたオブジェクトのリストが得られ、オブジェクトを囲むボックスと信頼度スコアが表示されます。左側が元画像、右側が予測結果を表示したものです:\n",
      "Document 1------------------------------------------------------------\n",
      "# Allocate a pipeline for object detection\n",
      ">>> object_detector = pipeline('object-detection')\n",
      ">>> object_detector(image)\n",
      "[{'score': 0.9982201457023621,\n",
      "  'label': 'remote',\n",
      "  'box': {'xmin': 40, 'ymin': 70, 'xmax': 175, 'ymax': 117}},\n",
      " {'score': 0.9960021376609802,\n",
      "  'label': 'remote',\n",
      "  'box': {'xmin': 333, 'ymin': 72, 'xmax': 368, 'ymax': 187}},\n",
      " {'score': 0.9954745173454285,\n",
      "  'label': 'couch',\n",
      "  'box': {'xmin': 0, 'ymin': 1, 'xmax': 639, 'ymax': 473}},\n",
      " {'score': 0.9988006353378296,\n",
      "  'label': 'cat',\n",
      "  'box': {'xmin': 13, 'ymin': 52, 'xmax': 314, 'ymax': 470}},\n",
      " {'score': 0.9986783862113953,\n",
      "  'label': 'cat',\n",
      "  'box': {'xmin': 345, 'ymin': 23, 'xmax': 640, 'ymax': 368}}]\n",
      "```\n",
      "\n",
      "\n",
      "Aqui obtemos uma lista de objetos detectados na imagem, com uma caixa envolvendo o objeto e uma pontuação de confiança. Aqui está a imagem original à esquerda, com as previsões exibidas à direita:\n",
      "Document 2------------------------------------------------------------\n",
      "# Allocate a pipeline for object detection\n",
      ">>> object_detector = pipeline('object-detection')\n",
      ">>> object_detector(image)\n",
      "[{'score': 0.9982201457023621,\n",
      "  'label': 'remote',\n",
      "  'box': {'xmin': 40, 'ymin': 70, 'xmax': 175, 'ymax': 117}},\n",
      " {'score': 0.9960021376609802,\n",
      "  'label': 'remote',\n",
      "  'box': {'xmin': 333, 'ymin': 72, 'xmax': 368, 'ymax': 187}},\n",
      " {'score': 0.9954745173454285,\n",
      "  'label': 'couch',\n",
      "  'box': {'xmin': 0, 'ymin': 1, 'xmax': 639, 'ymax': 473}},\n",
      " {'score': 0.9988006353378296,\n",
      "  'label': 'cat',\n",
      "  'box': {'xmin': 13, 'ymin': 52, 'xmax': 314, 'ymax': 470}},\n",
      " {'score': 0.9986783862113953,\n",
      "  'label': 'cat',\n",
      "  'box': {'xmin': 345, 'ymin': 23, 'xmax': 640, 'ymax': 368}}]\n",
      "```\n",
      "\n",
      "ఇక్కడ మనం ఆబ్జెక్ట్ చుట్టూ ఉన్న బాక్స్ మరియు కాన్ఫిడెన్స్ స్కోర్‌తో చిత్రంలో గుర్తించబడిన వస్తువుల జాబితాను పొందుతాము. ఇక్కడ ఎడమవైపున ఉన్న అసలు చిత్రం, కుడివైపున అంచనాలు ప్రదర్శించబడతాయి:\n",
      "\n",
      "<h3 align=\"center\">\n",
      "    <a><img src=\"https://huggingface.co/datasets/huggingface/documentation-images/resolve/main/coco_sample.png\" width=\"400\"></a>\n",
      "    <a><img src=\"https://huggingface.co/datasets/huggingface/documentation-images/resolve/main/coco_sample_post_processed.png\" width=\"400\"></a>\n",
      "</h3>\n",
      "Document 3------------------------------------------------------------\n",
      "Say we have a prompt:\n",
      "\n",
      "```\n",
      "prompt = \"__animal__ sitting on a __object__ wearing a __clothing__\"\n",
      "```\n",
      "\n",
      "We can then define possible values to be sampled for `animal`, `object`, and `clothing`. These can either be from a `.txt` with the same name as the category.\n",
      "\n",
      "The possible values can also be defined / combined by using a dictionary like: `{\"animal\":[\"dog\", \"cat\", mouse\"]}`.\n",
      "\n",
      "The actual pipeline works just like `StableDiffusionPipeline`, except the `__call__` method takes in:\n",
      "\n",
      "`wildcard_files`: list of file paths for wild card replacement\n",
      "`wildcard_option_dict`: dict with key as `wildcard` and values as a list of possible replacements\n",
      "`num_prompt_samples`: number of prompts to sample, uniformly sampling wildcards\n",
      "\n",
      "A full example:\n",
      "\n",
      "create `animal.txt`, with contents like:\n",
      "\n",
      "```\n",
      "dog\n",
      "cat\n",
      "mouse\n",
      "```\n",
      "\n",
      "create `object.txt`, with contents like:\n",
      "\n",
      "```\n",
      "chair\n",
      "sofa\n",
      "bench\n",
      "```\n",
      "\n",
      "```python\n",
      "from diffusers import DiffusionPipeline\n",
      "import torch\n",
      "\n",
      "pipe = DiffusionPipeline.from_pretrained(\n",
      "    \"CompVis/stable-diffusion-v1-4\",\n",
      "    custom_pipeline=\"wildcard_stable_diffusion\",\n",
      "\n",
      "    torch_dtype=torch.float16,\n",
      ")\n",
      "prompt = \"__animal__ sitting on a __object__ wearing a __clothing__\"\n",
      "out = pipe(\n",
      "    prompt,\n",
      "    wildcard_option_dict={\n",
      "        \"clothing\":[\"hat\", \"shirt\", \"scarf\", \"beret\"]\n",
      "    },\n",
      "    wildcard_files=[\"object.txt\", \"animal.txt\"],\n",
      "    num_prompt_samples=1\n",
      ")\n",
      "```\n",
      "\n",
      "### Composable Stable diffusion\n",
      "Document 4------------------------------------------------------------\n",
      "pipe = pipeline(model=\"hf-internal-testing/tiny-random-wav2vec2\", device=0)\n",
      "dataset = load_dataset(\"hf-internal-testing/librispeech_asr_dummy\", \"clean\", split=\"validation[:10]\")\n",
      "\n",
      "for out in pipe(KeyDataset(dataset, \"audio\")):\n",
      "    print(out)\n",
      "```\n",
      "\n",
      "\n",
      "## Using pipelines for a webserver\n",
      "\n",
      "<Tip>\n",
      "Creating an inference engine is a complex topic which deserves it's own\n",
      "page.\n",
      "</Tip>\n",
      "\n",
      "[Link](./pipeline_webserver)\n",
      "\n",
      "## Vision pipeline\n",
      "\n",
      "Using a [`pipeline`] for vision tasks is practically identical.\n",
      "\n",
      "Specify your task and pass your image to the classifier. The image can be a link, a local path or a base64-encoded image. For example, what species of cat is shown below?\n",
      "\n",
      "![pipeline-cat-chonk](https://huggingface.co/datasets/huggingface/documentation-images/resolve/main/pipeline-cat-chonk.jpeg)\n",
      "\n",
      "```py\n",
      ">>> from transformers import pipeline\n"
     ]
    }
   ],
   "source": [
    "print(\"==================================Answer==================================\")\n",
    "print(f\"{answer}\")\n",
    "print(\"==================================Source docs==================================\")\n",
    "for i, doc in enumerate(relevant_docs):\n",
    "    print(f\"Document {i}------------------------------------------------------------\")\n",
    "    print(doc)"
   ]
  },
  {
   "cell_type": "markdown",
   "metadata": {},
   "source": [
    "✅ We have a functional RAG sytem. That's it for today! Thank you for following along.\n",
    "\n",
    "\n",
    "# To go further\n",
    "\n",
    "This is not the end of the journey! You can try many steps to improve your RAG system. We recommend doing so in an iterative way: brigng small changes to the system and see what improves performance.\n",
    "\n",
    "### Setting up an evaluation pipeline\n",
    "\n",
    "- 💬 \"What you do not measure, you cannot improve\", said Gandhi. Or at least an LLM told me he said it. Anyway, you should absolutely start by measuring performance: this means building a small evaluation dataset, then monitor the performance of your RAG system on this evaluation dataset.\n",
    "\n",
    "### Improving the retriever\n",
    "\n",
    "🛠️ __You can use these options to tune the results:__\n",
    "\n",
    "- Tune the chunking method:\n",
    "    - Size of the chunks\n",
    "    - Method: split on different separators, use [semantic chunking](https://python.langchain.com/docs/modules/data_connection/document_transformers/semantic-chunker)...\n",
    "- Change the embedding model\n",
    "\n",
    "👷‍♀️ __More could be considered:__\n",
    "- Try another chunking method, like semantic chunking\n",
    "- Change the index used (here, FAISS)\n",
    "\n",
    "### Improving the reader\n",
    "\n",
    "🛠️ __Here you can try the following options to improve results:__\n",
    "- Switch reranking on/off\n",
    "- Change the reader model\n",
    "\n",
    "💡 __Many options could be considered here to further improve the results:__\n",
    "- Tune the prompt template\n",
    "- Use a more powerful Reader model\n",
    "- Compress the retrieved context to keep only the most relevant parts to answer the query.\n",
    "- Extend the RAG system to make it more user-friendly:\n",
    "    - cite source\n",
    "    - make conversational"
   ]
  }
 ],
 "metadata": {
  "kernelspec": {
   "display_name": "ml2",
   "language": "python",
   "name": "python3"
  },
  "language_info": {
   "codemirror_mode": {
    "name": "ipython",
    "version": 3
   },
   "file_extension": ".py",
   "mimetype": "text/x-python",
   "name": "python",
   "nbconvert_exporter": "python",
   "pygments_lexer": "ipython3",
   "version": "3.10.9"
  }
 },
 "nbformat": 4,
 "nbformat_minor": 2
}
